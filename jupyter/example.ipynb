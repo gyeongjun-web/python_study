{
 "cells": [
  {
   "cell_type": "code",
   "execution_count": 1,
   "id": "34a5ca33",
   "metadata": {},
   "outputs": [
    {
     "name": "stdout",
     "output_type": "stream",
     "text": [
      "[32, 15, 35, 1584, 3621, 4, 1, 65, 1, 6, 2, 1, 85, 4, 2, 3, 65, 2, 1, 5, 3, 2, 1, 85, 2, 4, 65, 2, 321, 54]\n"
     ]
    }
   ],
   "source": [
    "score=[32,15,35,1584,3621,4,1,65,1,6,2,1,85,4,2,3,65,2,1,5,3,2,1,85,2,4,65,2,321,54]\n",
    "print(score)"
   ]
  },
  {
   "cell_type": "code",
   "execution_count": 3,
   "id": "d7cafdd5",
   "metadata": {},
   "outputs": [
    {
     "name": "stdout",
     "output_type": "stream",
     "text": [
      "[32, 15, 35, 1584, 3621, 4, 1, 65, 1, 6, 2, 1, 85, 4, 2, 3, 65, 2, 1, 5, 3, 2, 1, 85, 2, 4, 65, 2, 321, 54]\n"
     ]
    },
    {
     "data": {
      "text/plain": [
       "2631404024896"
      ]
     },
     "execution_count": 3,
     "metadata": {},
     "output_type": "execute_result"
    }
   ],
   "source": [
    "score=[32,15,35,1584,3621,4,1,65,1,6,2,1,85,4,2,3,65,2,1,5,3,2,1,85,2,4,65,2,321,54]\n",
    "print(score)\n",
    "type(score)\n",
    "id(score)"
   ]
  },
  {
   "cell_type": "code",
   "execution_count": 4,
   "id": "bf1435a8",
   "metadata": {},
   "outputs": [
    {
     "name": "stdout",
     "output_type": "stream",
     "text": [
      "[32, 15, 35, 1584, 3621, 4, 1, 65, 1, 6, 2, 1, 85, 4, 2, 3, 65, 2, 1, 5, 3, 2, 1, 85, 2, 4, 65, 2, 321, 54]\n",
      "0 32\n",
      "1 15\n",
      "2 35\n",
      "3 1584\n",
      "4 3621\n",
      "5 4\n",
      "6 1\n",
      "7 65\n",
      "8 1\n",
      "9 6\n",
      "10 2\n",
      "11 1\n",
      "12 85\n",
      "13 4\n",
      "14 2\n",
      "15 3\n",
      "16 65\n",
      "17 2\n",
      "18 1\n",
      "19 5\n",
      "20 3\n",
      "21 2\n",
      "22 1\n",
      "23 85\n",
      "24 2\n",
      "25 4\n",
      "26 65\n",
      "27 2\n",
      "28 321\n",
      "29 54\n"
     ]
    }
   ],
   "source": [
    "score=[32,15,35,1584,3621,4,1,65,1,6,2,1,85,4,2,3,65,2,1,5,3,2,1,85,2,4,65,2,321,54]\n",
    "print(score)\n",
    "for i in range(len(score)):\n",
    "    print(i,score[i])"
   ]
  },
  {
   "cell_type": "code",
   "execution_count": 7,
   "id": "31936c4c",
   "metadata": {},
   "outputs": [
    {
     "name": "stdout",
     "output_type": "stream",
     "text": [
      "[0, 15, 35, 1584, 3621, 4, 1, 65, 1, 6, 2, 1, 85, 4, 2, 3, 65, 2, 1, 5, 3, 2, 1, 85, 2, 4, 65, 2, 321, 54]\n",
      "[0, 10, 35, 1584, 3621, 4, 1, 65, 1, 6, 2, 1, 85, 4, 2, 3, 65, 2, 1, 5, 3, 2, 1, 85, 2, 4, 65, 2, 321, 54]\n",
      "[0, 10, 20, 1584, 3621, 4, 1, 65, 1, 6, 2, 1, 85, 4, 2, 3, 65, 2, 1, 5, 3, 2, 1, 85, 2, 4, 65, 2, 321, 54]\n",
      "[0, 10, 20, 30, 3621, 4, 1, 65, 1, 6, 2, 1, 85, 4, 2, 3, 65, 2, 1, 5, 3, 2, 1, 85, 2, 4, 65, 2, 321, 54]\n",
      "[0, 10, 20, 30, 40, 4, 1, 65, 1, 6, 2, 1, 85, 4, 2, 3, 65, 2, 1, 5, 3, 2, 1, 85, 2, 4, 65, 2, 321, 54]\n",
      "[0, 10, 20, 30, 40, 50, 1, 65, 1, 6, 2, 1, 85, 4, 2, 3, 65, 2, 1, 5, 3, 2, 1, 85, 2, 4, 65, 2, 321, 54]\n",
      "[0, 10, 20, 30, 40, 50, 60, 65, 1, 6, 2, 1, 85, 4, 2, 3, 65, 2, 1, 5, 3, 2, 1, 85, 2, 4, 65, 2, 321, 54]\n",
      "[0, 10, 20, 30, 40, 50, 60, 70, 1, 6, 2, 1, 85, 4, 2, 3, 65, 2, 1, 5, 3, 2, 1, 85, 2, 4, 65, 2, 321, 54]\n",
      "[0, 10, 20, 30, 40, 50, 60, 70, 80, 6, 2, 1, 85, 4, 2, 3, 65, 2, 1, 5, 3, 2, 1, 85, 2, 4, 65, 2, 321, 54]\n",
      "[0, 10, 20, 30, 40, 50, 60, 70, 80, 90, 2, 1, 85, 4, 2, 3, 65, 2, 1, 5, 3, 2, 1, 85, 2, 4, 65, 2, 321, 54]\n",
      "[0, 10, 20, 30, 40, 50, 60, 70, 80, 90, 100, 1, 85, 4, 2, 3, 65, 2, 1, 5, 3, 2, 1, 85, 2, 4, 65, 2, 321, 54]\n",
      "[0, 10, 20, 30, 40, 50, 60, 70, 80, 90, 100, 110, 85, 4, 2, 3, 65, 2, 1, 5, 3, 2, 1, 85, 2, 4, 65, 2, 321, 54]\n",
      "[0, 10, 20, 30, 40, 50, 60, 70, 80, 90, 100, 110, 120, 4, 2, 3, 65, 2, 1, 5, 3, 2, 1, 85, 2, 4, 65, 2, 321, 54]\n",
      "[0, 10, 20, 30, 40, 50, 60, 70, 80, 90, 100, 110, 120, 130, 2, 3, 65, 2, 1, 5, 3, 2, 1, 85, 2, 4, 65, 2, 321, 54]\n",
      "[0, 10, 20, 30, 40, 50, 60, 70, 80, 90, 100, 110, 120, 130, 140, 3, 65, 2, 1, 5, 3, 2, 1, 85, 2, 4, 65, 2, 321, 54]\n",
      "[0, 10, 20, 30, 40, 50, 60, 70, 80, 90, 100, 110, 120, 130, 140, 150, 65, 2, 1, 5, 3, 2, 1, 85, 2, 4, 65, 2, 321, 54]\n",
      "[0, 10, 20, 30, 40, 50, 60, 70, 80, 90, 100, 110, 120, 130, 140, 150, 160, 2, 1, 5, 3, 2, 1, 85, 2, 4, 65, 2, 321, 54]\n",
      "[0, 10, 20, 30, 40, 50, 60, 70, 80, 90, 100, 110, 120, 130, 140, 150, 160, 170, 1, 5, 3, 2, 1, 85, 2, 4, 65, 2, 321, 54]\n",
      "[0, 10, 20, 30, 40, 50, 60, 70, 80, 90, 100, 110, 120, 130, 140, 150, 160, 170, 180, 5, 3, 2, 1, 85, 2, 4, 65, 2, 321, 54]\n",
      "[0, 10, 20, 30, 40, 50, 60, 70, 80, 90, 100, 110, 120, 130, 140, 150, 160, 170, 180, 190, 3, 2, 1, 85, 2, 4, 65, 2, 321, 54]\n",
      "[0, 10, 20, 30, 40, 50, 60, 70, 80, 90, 100, 110, 120, 130, 140, 150, 160, 170, 180, 190, 200, 2, 1, 85, 2, 4, 65, 2, 321, 54]\n",
      "[0, 10, 20, 30, 40, 50, 60, 70, 80, 90, 100, 110, 120, 130, 140, 150, 160, 170, 180, 190, 200, 210, 1, 85, 2, 4, 65, 2, 321, 54]\n",
      "[0, 10, 20, 30, 40, 50, 60, 70, 80, 90, 100, 110, 120, 130, 140, 150, 160, 170, 180, 190, 200, 210, 220, 85, 2, 4, 65, 2, 321, 54]\n",
      "[0, 10, 20, 30, 40, 50, 60, 70, 80, 90, 100, 110, 120, 130, 140, 150, 160, 170, 180, 190, 200, 210, 220, 230, 2, 4, 65, 2, 321, 54]\n",
      "[0, 10, 20, 30, 40, 50, 60, 70, 80, 90, 100, 110, 120, 130, 140, 150, 160, 170, 180, 190, 200, 210, 220, 230, 240, 4, 65, 2, 321, 54]\n",
      "[0, 10, 20, 30, 40, 50, 60, 70, 80, 90, 100, 110, 120, 130, 140, 150, 160, 170, 180, 190, 200, 210, 220, 230, 240, 250, 65, 2, 321, 54]\n",
      "[0, 10, 20, 30, 40, 50, 60, 70, 80, 90, 100, 110, 120, 130, 140, 150, 160, 170, 180, 190, 200, 210, 220, 230, 240, 250, 260, 2, 321, 54]\n",
      "[0, 10, 20, 30, 40, 50, 60, 70, 80, 90, 100, 110, 120, 130, 140, 150, 160, 170, 180, 190, 200, 210, 220, 230, 240, 250, 260, 270, 321, 54]\n",
      "[0, 10, 20, 30, 40, 50, 60, 70, 80, 90, 100, 110, 120, 130, 140, 150, 160, 170, 180, 190, 200, 210, 220, 230, 240, 250, 260, 270, 280, 54]\n",
      "[0, 10, 20, 30, 40, 50, 60, 70, 80, 90, 100, 110, 120, 130, 140, 150, 160, 170, 180, 190, 200, 210, 220, 230, 240, 250, 260, 270, 280, 290]\n"
     ]
    }
   ],
   "source": [
    "score=[32,15,35,1584,3621,4,1,65,1,6,2,1,85,4,2,3,65,2,1,5,3,2,1,85,2,4,65,2,321,54]\n",
    "\n",
    "for i in range (len(score)):\n",
    "    score[i]=i*10\n",
    "    print(score)"
   ]
  },
  {
   "cell_type": "code",
   "execution_count": 19,
   "id": "2bbf0610",
   "metadata": {},
   "outputs": [
    {
     "ename": "TypeError",
     "evalue": "'list' object is not callable",
     "output_type": "error",
     "traceback": [
      "\u001b[31m---------------------------------------------------------------------------\u001b[39m",
      "\u001b[31mTypeError\u001b[39m                                 Traceback (most recent call last)",
      "\u001b[36mCell\u001b[39m\u001b[36m \u001b[39m\u001b[32mIn[19]\u001b[39m\u001b[32m, line 1\u001b[39m\n\u001b[32m----> \u001b[39m\u001b[32m1\u001b[39m list1=\u001b[38;5;28;43mlist\u001b[39;49m\u001b[43m(\u001b[49m\u001b[43m)\u001b[49m\n\u001b[32m      2\u001b[39m list2=\u001b[38;5;28mlist\u001b[39m(\u001b[33m'\u001b[39m\u001b[33mhello\u001b[39m\u001b[33m'\u001b[39m)\n\u001b[32m      3\u001b[39m list3=\u001b[38;5;28mlist\u001b[39m(\u001b[38;5;28mrange\u001b[39m(\u001b[32m0\u001b[39m,\u001b[32m5\u001b[39m))\n",
      "\u001b[31mTypeError\u001b[39m: 'list' object is not callable"
     ]
    }
   ],
   "source": [
    "list1=list()\n",
    "list2=list('hello')\n",
    "list3=list(range(0,5))\n",
    "print(list1,list2,list3)\n"
   ]
  },
  {
   "cell_type": "code",
   "execution_count": 20,
   "id": "64751dd2",
   "metadata": {},
   "outputs": [
    {
     "name": "stdout",
     "output_type": "stream",
     "text": [
      "[] ['h', 'e', 'l', 'l', 'o'] [0, 1, 2, 3, 4]\n"
     ]
    }
   ],
   "source": [
    "list1=[]\n",
    "list2=['h','e','l','l','o']\n",
    "list=[0,1,2,3,4]\n",
    "print(list1,list2,list3)"
   ]
  },
  {
   "cell_type": "code",
   "execution_count": 22,
   "id": "a5d9922f",
   "metadata": {},
   "outputs": [
    {
     "name": "stdout",
     "output_type": "stream",
     "text": [
      "[12, 'dog', 180.14] (['seoul', 10], ['paris', 12], ['london', 50]) ['aaa', ['bbb', ['ccc', ['ddd', 'eee']]]]\n"
     ]
    }
   ],
   "source": [
    "list1=[12,'dog',180.14]\n",
    "list2=(['seoul',10],['paris',12],['london',50])\n",
    "list3=['aaa',['bbb',['ccc',['ddd','eee']]]]\n",
    "print(list1,list2,list3)"
   ]
  },
  {
   "cell_type": "code",
   "execution_count": 25,
   "id": "977de758",
   "metadata": {},
   "outputs": [
    {
     "name": "stdout",
     "output_type": "stream",
     "text": [
      "W l r\n",
      "apple peach pear\n"
     ]
    }
   ],
   "source": [
    "text='Will is power'\n",
    "print(text[0],text[3],text[-1])\n",
    "flist=['apple','banana','tomato','peach','pear']\n",
    "print(flist[0],flist[3],flist[-1])"
   ]
  },
  {
   "cell_type": "code",
   "execution_count": 36,
   "id": "a5764142",
   "metadata": {},
   "outputs": [
    {
     "name": "stdout",
     "output_type": "stream",
     "text": [
      "b\n"
     ]
    }
   ],
   "source": [
    "alist=['apple','banana','tomato','peach','orange']\n",
    "print(alist[1][0])"
   ]
  },
  {
   "cell_type": "code",
   "execution_count": 45,
   "id": "0b7b8154",
   "metadata": {},
   "outputs": [
    {
     "data": {
      "text/plain": [
       "[3, 5, 2, 4, 4, 2, 1, 8, 63, 2]"
      ]
     },
     "execution_count": 45,
     "metadata": {},
     "output_type": "execute_result"
    }
   ],
   "source": [
    "squares=[3,5,2,4,4,2,1,8,63,2]\n",
    "squares[:]"
   ]
  },
  {
   "cell_type": "code",
   "execution_count": null,
   "id": "db3e625c",
   "metadata": {},
   "outputs": [
    {
     "ename": "SyntaxError",
     "evalue": "invalid syntax (1152142428.py, line 11)",
     "output_type": "error",
     "traceback": [
      "  \u001b[36mCell\u001b[39m\u001b[36m \u001b[39m\u001b[32mIn[60]\u001b[39m\u001b[32m, line 11\u001b[39m\n\u001b[31m    \u001b[39m\u001b[31mprint(a.)\u001b[39m\n            ^\n\u001b[31mSyntaxError\u001b[39m\u001b[31m:\u001b[39m invalid syntax\n"
     ]
    }
   ],
   "source": [
    "a=[1,2,3,4,5]\n",
    "b=a[:]\n",
    "print(b)\n",
    "#type(b)\n",
    "#b=a[:]\n",
    "#print(b)\n",
    "b[0]=100\n",
    "print(a)\n",
    "print(b)\n",
    "print(type)\n"
   ]
  },
  {
   "cell_type": "code",
   "execution_count": 64,
   "id": "f88d4a75",
   "metadata": {},
   "outputs": [
    {
     "name": "stdout",
     "output_type": "stream",
     "text": [
      "[1, 2, 64, 3, 4, 5]\n"
     ]
    }
   ],
   "source": [
    "a=[1,2,3,4,5]\n",
    "a.insert(2,64)\n",
    "print(a)"
   ]
  },
  {
   "cell_type": "code",
   "execution_count": 67,
   "id": "64214d5f",
   "metadata": {},
   "outputs": [],
   "source": [
    "heroes=['아이언맨','캡틴 아메리카','헐크','블랙팬서']\n",
    "if '스파이더맨' in heroes:\n",
    "    print('헐크는 영웅이다')"
   ]
  },
  {
   "cell_type": "code",
   "execution_count": 70,
   "id": "5f2e0c7f",
   "metadata": {},
   "outputs": [
    {
     "name": "stdout",
     "output_type": "stream",
     "text": [
      "[1, 2, 3, 4, 5]\n"
     ]
    }
   ],
   "source": [
    "li=[3,2,1,5,4]\n",
    "li.sort()\n",
    "print(li)"
   ]
  },
  {
   "cell_type": "code",
   "execution_count": 72,
   "id": "018a03ae",
   "metadata": {},
   "outputs": [
    {
     "name": "stdout",
     "output_type": "stream",
     "text": [
      "[1, 2, 3, 4, 5]\n"
     ]
    }
   ],
   "source": [
    "li=[3,2,1,5,4]\n",
    "s_li=sorted(li)\n",
    "print(s_li)"
   ]
  },
  {
   "cell_type": "code",
   "execution_count": 74,
   "id": "32607cdf",
   "metadata": {},
   "outputs": [
    {
     "name": "stdout",
     "output_type": "stream",
     "text": [
      "[5, 4, 3, 2, 1]\n"
     ]
    }
   ],
   "source": [
    "li=sorted([5,2,3,4,1],reverse=True)\n",
    "print(li)"
   ]
  },
  {
   "cell_type": "code",
   "execution_count": 76,
   "id": "0c3df1be",
   "metadata": {},
   "outputs": [
    {
     "name": "stdout",
     "output_type": "stream",
     "text": [
      "['Where there is a will', 'there is a way']\n"
     ]
    }
   ],
   "source": [
    "statement='Where there is a will,there is a way'\n",
    "li=statement.split(',')\n",
    "print(li)"
   ]
  },
  {
   "cell_type": "code",
   "execution_count": 90,
   "id": "7a1fae16",
   "metadata": {},
   "outputs": [
    {
     "ename": "ValueError",
     "evalue": "invalid literal for int() with base 10: ''",
     "output_type": "error",
     "traceback": [
      "\u001b[31m---------------------------------------------------------------------------\u001b[39m",
      "\u001b[31mValueError\u001b[39m                                Traceback (most recent call last)",
      "\u001b[36mCell\u001b[39m\u001b[36m \u001b[39m\u001b[32mIn[90]\u001b[39m\u001b[32m, line 10\u001b[39m\n\u001b[32m      7\u001b[39m     list_sum=\u001b[38;5;28msum\u001b[39m(list_num)\n\u001b[32m      8\u001b[39m     \u001b[38;5;28;01mreturn\u001b[39;00m list_sum\n\u001b[32m---> \u001b[39m\u001b[32m10\u001b[39m input_num=\u001b[38;5;28;43mint\u001b[39;49m\u001b[43m(\u001b[49m\u001b[38;5;28;43minput\u001b[39;49m\u001b[43m(\u001b[49m\u001b[33;43m'\u001b[39;49m\u001b[33;43m입력할 값의 계수:\u001b[39;49m\u001b[33;43m'\u001b[39;49m\u001b[43m)\u001b[49m\u001b[43m)\u001b[49m\n\u001b[32m     11\u001b[39m total=inputtotal(input_num)\n\u001b[32m     12\u001b[39m \u001b[38;5;28mprint\u001b[39m(\u001b[33m'\u001b[39m\u001b[33m값의 합계\u001b[39m\u001b[33m'\u001b[39m,total)\n",
      "\u001b[31mValueError\u001b[39m: invalid literal for int() with base 10: ''"
     ]
    }
   ],
   "source": [
    "def inputtotal(a):\n",
    "    list_num=[]\n",
    "\n",
    "    for i in range(a):\n",
    "        list_num.append(int(input(f'{i+1}번 입력:')))\n",
    "\n",
    "    list_sum=sum(list_num)\n",
    "    return list_sum\n",
    "\n",
    "input_num=int(input('입력할 값의 계수:'))\n",
    "total=inputtotal(input_num)\n",
    "print('값의 합계',total)\n",
    "\n"
   ]
  },
  {
   "cell_type": "code",
   "execution_count": 103,
   "id": "417aef51",
   "metadata": {},
   "outputs": [
    {
     "ename": "TypeError",
     "evalue": "'list' object is not callable",
     "output_type": "error",
     "traceback": [
      "\u001b[31m---------------------------------------------------------------------------\u001b[39m",
      "\u001b[31mTypeError\u001b[39m                                 Traceback (most recent call last)",
      "\u001b[36mCell\u001b[39m\u001b[36m \u001b[39m\u001b[32mIn[103]\u001b[39m\u001b[32m, line 12\u001b[39m\n\u001b[32m     10\u001b[39m         cnt+=\u001b[32m1\u001b[39m\n\u001b[32m     11\u001b[39m     \u001b[38;5;28mprint\u001b[39m(list_array)\n\u001b[32m---> \u001b[39m\u001b[32m12\u001b[39m \u001b[43mrandomint\u001b[49m\u001b[43m(\u001b[49m\u001b[43m)\u001b[49m\n\u001b[32m     13\u001b[39m \u001b[38;5;28mprint\u001b[39m(randomimt)\n",
      "\u001b[36mCell\u001b[39m\u001b[36m \u001b[39m\u001b[32mIn[103]\u001b[39m\u001b[32m, line 4\u001b[39m, in \u001b[36mrandomint\u001b[39m\u001b[34m()\u001b[39m\n\u001b[32m      3\u001b[39m \u001b[38;5;28;01mdef\u001b[39;00m\u001b[38;5;250m \u001b[39m\u001b[34mrandomint\u001b[39m():\n\u001b[32m----> \u001b[39m\u001b[32m4\u001b[39m     list_array=\u001b[38;5;28;43mlist\u001b[39;49m\u001b[43m(\u001b[49m\u001b[43m)\u001b[49m\n\u001b[32m      5\u001b[39m     cnt=\u001b[32m0\u001b[39m\n\u001b[32m      6\u001b[39m     \u001b[38;5;28;01mwhile\u001b[39;00m \u001b[38;5;28;01mTrue\u001b[39;00m:\n",
      "\u001b[31mTypeError\u001b[39m: 'list' object is not callable"
     ]
    }
   ],
   "source": [
    "import random\n",
    "\n",
    "def randomint():\n",
    "    list_array=list()\n",
    "    cnt=0\n",
    "    while True:\n",
    "        if cnt == 10:\n",
    "            break\n",
    "        list_array.append(random.randint(1,100))\n",
    "        cnt+=1\n",
    "    print(list_array)\n",
    "randomint()\n",
    "print(randomimt)"
   ]
  },
  {
   "cell_type": "code",
   "execution_count": 104,
   "id": "d841e503",
   "metadata": {},
   "outputs": [
    {
     "name": "stdout",
     "output_type": "stream",
     "text": [
      "[20, 1, 12, 9, 18]\n"
     ]
    }
   ],
   "source": [
    "def printstar(list_star):\n",
    "    for i in range(len(list_star)):\n",
    "        if list_star[i]<10:\n",
    "            print(list_star[i],\"     \",\"*\"*list_star[i])\n",
    "        else:\n",
    "            print(list_star[i],'     ','*'*list_star[i])\n",
    "\n",
    "star=[20,1,12,9,18]\n",
    "print(star)"
   ]
  },
  {
   "cell_type": "code",
   "execution_count": 108,
   "id": "31cebb97",
   "metadata": {},
   "outputs": [
    {
     "name": "stdout",
     "output_type": "stream",
     "text": [
      "실행 전 [1, 2, 3, 4, 5, 6, 7, 8, 9, 10]\n",
      "실행 후 [1, 2, -3, -4, -5, -6, -7, -8, 9, 10]\n"
     ]
    }
   ],
   "source": [
    "def minuslist(alist):\n",
    "\n",
    "    print('실행 전',alist)\n",
    "    alist_after=[-i if 3<=i and i<=8 else i for i in alist]\n",
    "    print('실행 후',alist_after)\n",
    "\n",
    "alist=[1,2,3,4,5,6,7,8,9,10]\n",
    "minuslist(alist)"
   ]
  },
  {
   "cell_type": "code",
   "execution_count": 109,
   "id": "7c8dfb02",
   "metadata": {},
   "outputs": [
    {
     "name": "stdout",
     "output_type": "stream",
     "text": [
      "[0, 1, 2, 3, 4]\n",
      "[0, 1, 2, 3, 4]\n"
     ]
    }
   ],
   "source": [
    "a=[x for x in range(5)]\n",
    "\n",
    "b=[0,1,2,3,4]\n",
    "print(a)\n",
    "print(b)"
   ]
  },
  {
   "cell_type": "code",
   "execution_count": 111,
   "id": "4ab50e44",
   "metadata": {},
   "outputs": [
    {
     "name": "stdout",
     "output_type": "stream",
     "text": [
      "a= [1, 2, 3, 4, 5]\n",
      "b= [1, 3, 3, 4, 5, 6, 7]\n"
     ]
    },
    {
     "ename": "TypeError",
     "evalue": "'list' object is not callable",
     "output_type": "error",
     "traceback": [
      "\u001b[31m---------------------------------------------------------------------------\u001b[39m",
      "\u001b[31mTypeError\u001b[39m                                 Traceback (most recent call last)",
      "\u001b[36mCell\u001b[39m\u001b[36m \u001b[39m\u001b[32mIn[111]\u001b[39m\u001b[32m, line 15\u001b[39m\n\u001b[32m     13\u001b[39m \u001b[38;5;28mprint\u001b[39m(\u001b[33m'\u001b[39m\u001b[33ma=\u001b[39m\u001b[33m'\u001b[39m,a)\n\u001b[32m     14\u001b[39m \u001b[38;5;28mprint\u001b[39m(\u001b[33m'\u001b[39m\u001b[33mb=\u001b[39m\u001b[33m'\u001b[39m,b)\n\u001b[32m---> \u001b[39m\u001b[32m15\u001b[39m \u001b[43msame_element\u001b[49m\u001b[43m(\u001b[49m\u001b[43ma\u001b[49m\u001b[43m,\u001b[49m\u001b[43mb\u001b[49m\u001b[43m)\u001b[49m\n",
      "\u001b[36mCell\u001b[39m\u001b[36m \u001b[39m\u001b[32mIn[111]\u001b[39m\u001b[32m, line 8\u001b[39m, in \u001b[36msame_element\u001b[39m\u001b[34m(list1, list2)\u001b[39m\n\u001b[32m      6\u001b[39m \u001b[38;5;28;01mdef\u001b[39;00m\u001b[38;5;250m \u001b[39m\u001b[34msame_element\u001b[39m(list1,list2):\n\u001b[32m      7\u001b[39m     same_list=[i \u001b[38;5;28;01mfor\u001b[39;00m i \u001b[38;5;129;01min\u001b[39;00m list1 \u001b[38;5;28;01mfor\u001b[39;00m j \u001b[38;5;129;01min\u001b[39;00m list2 \u001b[38;5;28;01mif\u001b[39;00m i==j]\n\u001b[32m----> \u001b[39m\u001b[32m8\u001b[39m     only=\u001b[43msingle_list\u001b[49m\u001b[43m(\u001b[49m\u001b[43msame_list\u001b[49m\u001b[43m)\u001b[49m\n\u001b[32m      9\u001b[39m     \u001b[38;5;28mprint\u001b[39m(\u001b[33m'\u001b[39m\u001b[33m결과=\u001b[39m\u001b[33m'\u001b[39m,only)\n",
      "\u001b[36mCell\u001b[39m\u001b[36m \u001b[39m\u001b[32mIn[111]\u001b[39m\u001b[32m, line 3\u001b[39m, in \u001b[36msingle_list\u001b[39m\u001b[34m(alist)\u001b[39m\n\u001b[32m      1\u001b[39m \u001b[38;5;28;01mdef\u001b[39;00m\u001b[38;5;250m \u001b[39m\u001b[34msingle_list\u001b[39m(alist):  \u001b[38;5;66;03m#리스트 안의 중복 요소를 제거하는 함수이다\u001b[39;00m\n\u001b[32m      2\u001b[39m     aset=\u001b[38;5;28mset\u001b[39m(alist)    \u001b[38;5;66;03m#세트는 중복이 불가능하기 떄문에 리스트를 사용한다\u001b[39;00m\n\u001b[32m----> \u001b[39m\u001b[32m3\u001b[39m     non_same=\u001b[38;5;28;43mlist\u001b[39;49m\u001b[43m(\u001b[49m\u001b[43maset\u001b[49m\u001b[43m)\u001b[49m  \u001b[38;5;66;03m#\u001b[39;00m\n\u001b[32m      4\u001b[39m     \u001b[38;5;28;01mreturn\u001b[39;00m non_same\n",
      "\u001b[31mTypeError\u001b[39m: 'list' object is not callable"
     ]
    }
   ],
   "source": [
    "def single_list(alist):  #리스트 안의 중복 요소를 제거하는 함수이다\n",
    "    aset=set(alist)    #세트는 중복이 불가능하기 떄문에 리스트를 사용한다\n",
    "    non_same=list(aset)  #\n",
    "    return non_same\n",
    "\n",
    "def same_element(list1,list2):\n",
    "    same_list=[i for i in list1 for j in list2 if i==j]\n",
    "    only=single_list(same_list)\n",
    "    print('결과=',only)\n",
    "\n",
    "a=[1,2,3,4,5]\n",
    "b=[1,3,3,4,5,6,7]\n",
    "print('a=',a)\n",
    "print('b=',b)\n",
    "same_element(a,b)"
   ]
  },
  {
   "cell_type": "code",
   "execution_count": 1,
   "id": "d3beb18d",
   "metadata": {},
   "outputs": [
    {
     "name": "stdout",
     "output_type": "stream",
     "text": [
      "9\n"
     ]
    }
   ],
   "source": [
    "def find_max(numbers):\n",
    "    max_num=numbers[0]\n",
    "    for num in numbers:\n",
    "        if num>max_num:\n",
    "            max_num=num\n",
    "    return max_num\n",
    "\n",
    "print(find_max([3,7,2,9,5]))"
   ]
  },
  {
   "cell_type": "code",
   "execution_count": 3,
   "id": "f51625c9",
   "metadata": {},
   "outputs": [
    {
     "name": "stdout",
     "output_type": "stream",
     "text": [
      "12\n"
     ]
    }
   ],
   "source": [
    "def add_numbers(a,b):\n",
    "    return a+b\n",
    "print(add_numbers(3,9))"
   ]
  },
  {
   "cell_type": "code",
   "execution_count": 10,
   "id": "be55dd8a",
   "metadata": {},
   "outputs": [
    {
     "name": "stdout",
     "output_type": "stream",
     "text": [
      "(1, 2, 3, 4, 5, 'red', 'blue', 'yelow')\n"
     ]
    }
   ],
   "source": [
    "numbers=(1,2,3,4,5)\n",
    "colors=('red','blue','yelow')\n",
    "t=numbers+colors\n",
    "print(t)"
   ]
  },
  {
   "cell_type": "code",
   "execution_count": 18,
   "id": "21daee89",
   "metadata": {},
   "outputs": [
    {
     "name": "stdout",
     "output_type": "stream",
     "text": [
      "철수\n",
      "19\n",
      "cs\n"
     ]
    }
   ],
   "source": [
    "student1=('철수',19,'cs')\n",
    "(name,age,major)=student1\n",
    "print(name)\n",
    "print(age)\n",
    "print(major)"
   ]
  },
  {
   "cell_type": "code",
   "execution_count": 2,
   "id": "597fb03e",
   "metadata": {},
   "outputs": [
    {
     "name": "stdout",
     "output_type": "stream",
     "text": [
      "2.5\n",
      "20.0\n",
      "0\n"
     ]
    }
   ],
   "source": [
    "def average(numbers):\n",
    "    if len(numbers)==0:\n",
    "        return 0\n",
    "    total=sum(numbers)\n",
    "    average=total/len(numbers)\n",
    "    return average\n",
    "\n",
    "print(average([1,2,3,4]))\n",
    "print(average([10,20,30]))\n",
    "print(average([]))"
   ]
  },
  {
   "cell_type": "code",
   "execution_count": 11,
   "id": "436be366",
   "metadata": {},
   "outputs": [
    {
     "name": "stdout",
     "output_type": "stream",
     "text": [
      "[2, 4, 6, 8, 10]\n",
      "[]\n"
     ]
    }
   ],
   "source": [
    "def filter_even(numbers):\n",
    "    even_numbers=[]\n",
    "    for num in numbers:\n",
    "        if num%2==0:\n",
    "            even_numbers.append(num)\n",
    "    return even_numbers\n",
    "print(filter_even([1,2,3,4,5,6,7,8,9,10]))\n",
    "print(filter_even([7,9,11]))"
   ]
  },
  {
   "cell_type": "code",
   "execution_count": 5,
   "id": "9315eb33",
   "metadata": {},
   "outputs": [
    {
     "name": "stdout",
     "output_type": "stream",
     "text": [
      "{'london', 'paris', 'seoul', 'berlin'}\n"
     ]
    }
   ],
   "source": [
    "cities={'paris','seoul','london','berlin','paris','seoul'}\n",
    "print(cities)"
   ]
  },
  {
   "cell_type": "code",
   "execution_count": 9,
   "id": "42a5244b",
   "metadata": {},
   "outputs": [
    {
     "name": "stdout",
     "output_type": "stream",
     "text": [
      "123"
     ]
    }
   ],
   "source": [
    "numbers={2,1,3}\n",
    "for x in numbers:\n",
    "    print(x,end=\"\")\n",
    "    "
   ]
  },
  {
   "cell_type": "code",
   "execution_count": 10,
   "id": "27b8940f",
   "metadata": {},
   "outputs": [
    {
     "name": "stdout",
     "output_type": "stream",
     "text": [
      "123"
     ]
    }
   ],
   "source": [
    "for x in sorted(numbers):\n",
    "    print(x,end='')\n",
    "    "
   ]
  },
  {
   "cell_type": "code",
   "execution_count": 13,
   "id": "47f101e9",
   "metadata": {},
   "outputs": [
    {
     "data": {
      "text/plain": [
       "[1, 1, 2, 3, 3, 4, 4, 5, 6, 6, 7, 8]"
      ]
     },
     "execution_count": 13,
     "metadata": {},
     "output_type": "execute_result"
    }
   ],
   "source": [
    "my_list=(1,3,4,5,6,7,8,4,2,1,3,6)\n",
    "#set(my_list)\n",
    "sorted(my_list)"
   ]
  },
  {
   "cell_type": "code",
   "execution_count": null,
   "id": "69ee0388",
   "metadata": {},
   "outputs": [],
   "source": [
    "def max_num(numbers):\n",
    "    "
   ]
  },
  {
   "cell_type": "code",
   "execution_count": 32,
   "id": "3c0f6648",
   "metadata": {},
   "outputs": [
    {
     "name": "stdout",
     "output_type": "stream",
     "text": [
      "{'jung': '01041395378', 'jang': '01053023882'}\n",
      "01053023882\n"
     ]
    },
    {
     "data": {
      "text/plain": [
       "'01053023882'"
      ]
     },
     "execution_count": 32,
     "metadata": {},
     "output_type": "execute_result"
    }
   ],
   "source": [
    "contacts={'jung':\"01041395378\",'jang':\"01053023882\"}\n",
    "print(contacts)\n",
    "print(contacts['jang'])\n",
    "contacts.get('jang')"
   ]
  },
  {
   "cell_type": "code",
   "execution_count": 34,
   "id": "db3350ef",
   "metadata": {},
   "outputs": [
    {
     "name": "stdout",
     "output_type": "stream",
     "text": [
      "01012345678\n",
      "{'park': '01021235431', 'lee': '123456789'}\n"
     ]
    }
   ],
   "source": [
    "contacts={'kim':\"01012345678\",'park':\"01021235431\",'lee':\"123456789\"}\n",
    "print(contacts.pop('kim'))\n",
    "print(contacts)"
   ]
  },
  {
   "cell_type": "code",
   "execution_count": 36,
   "id": "4566daa3",
   "metadata": {},
   "outputs": [
    {
     "name": "stdout",
     "output_type": "stream",
     "text": [
      "{'park': '01021235431', 'lee': '123456789'}\n"
     ]
    }
   ],
   "source": [
    "contacts={'kim':\"01012345678\",'park':\"01021235431\",'lee':\"123456789\"}\n",
    "del contacts['kim']\n",
    "print(contacts)"
   ]
  },
  {
   "cell_type": "code",
   "execution_count": 1,
   "id": "c7fdc94e",
   "metadata": {},
   "outputs": [
    {
     "ename": "NameError",
     "evalue": "name 'squares' is not defined",
     "output_type": "error",
     "traceback": [
      "\u001b[31m---------------------------------------------------------------------------\u001b[39m",
      "\u001b[31mNameError\u001b[39m                                 Traceback (most recent call last)",
      "\u001b[36mCell\u001b[39m\u001b[36m \u001b[39m\u001b[32mIn[1]\u001b[39m\u001b[32m, line 1\u001b[39m\n\u001b[32m----> \u001b[39m\u001b[32m1\u001b[39m \u001b[38;5;28mprint\u001b[39m(\u001b[43msquares\u001b[49m)\n\u001b[32m      2\u001b[39m \u001b[38;5;28mprint\u001b[39m(\u001b[32m1\u001b[39m \u001b[38;5;129;01min\u001b[39;00m squares)\n\u001b[32m      3\u001b[39m \u001b[38;5;28mprint\u001b[39m(\u001b[32m2\u001b[39m \u001b[38;5;129;01mnot\u001b[39;00m \u001b[38;5;129;01min\u001b[39;00m squares)\n",
      "\u001b[31mNameError\u001b[39m: name 'squares' is not defined"
     ]
    }
   ],
   "source": [
    "print(squares)\n",
    "print(1 in squares)\n",
    "print(2 not in squares)\n"
   ]
  },
  {
   "cell_type": "code",
   "execution_count": 2,
   "id": "aed7907c",
   "metadata": {},
   "outputs": [
    {
     "name": "stdout",
     "output_type": "stream",
     "text": [
      "정수를 입력하세요. 입력을 마치려면 done을 입력하세요.\n",
      "정수만 입력하시오:\n",
      "정수만 입력하시오:\n",
      "정렬된 중복 제거 리스트: [1, 2, 5, 13, 16, 21, 32, 51, 56, 1521, 4213]\n"
     ]
    }
   ],
   "source": [
    "def get_unique_sorted_list():\n",
    "    number=[]\n",
    "    print('정수를 입력하세요. 입력을 마치려면 done을 입력하세요.')\n",
    "\n",
    "    while True:\n",
    "        value=input('정수:')\n",
    "        if value.lower()=='done':\n",
    "            break\n",
    "        try:\n",
    "            num=int(value)\n",
    "            number.append(num)\n",
    "        except ValueError:\n",
    "            print('정수만 입력하시오:')\n",
    "\n",
    "    unique_sorted=sorted(set(number))\n",
    "\n",
    "    return unique_sorted\n",
    "\n",
    "result=get_unique_sorted_list()\n",
    "print('정렬된 중복 제거 리스트:',result)\n",
    "\n"
   ]
  },
  {
   "cell_type": "code",
   "execution_count": 3,
   "id": "95e13e46",
   "metadata": {},
   "outputs": [
    {
     "name": "stdout",
     "output_type": "stream",
     "text": [
      "제곱을 key로 갖는 딕셔너리: {1: 1, 4: 2, 9: 3, 16: 4, 25: 5, 36: 6, 49: 7, 64: 8, 81: 9, 100: 10}\n"
     ]
    }
   ],
   "source": [
    "#(x:x*x)형식의 숫자(1과10사이)를 key로 포함하는 딕셔너리를 생성하고 출력하는 프로그램 함수 정의\n",
    "def key_dict():\n",
    "    result={}\n",
    "    for x in range(1,11):\n",
    "        key=x*x\n",
    "        result[key]=x\n",
    "    return result\n",
    "\n",
    "squre_dict=key_dict()\n",
    "print('제곱을 key로 갖는 딕셔너리:',squre_dict)\n"
   ]
  },
  {
   "cell_type": "code",
   "execution_count": 5,
   "id": "bc13619b",
   "metadata": {},
   "outputs": [
    {
     "name": "stdout",
     "output_type": "stream",
     "text": [
      "12\n",
      "30\n"
     ]
    }
   ],
   "source": [
    "def add_num(a,b):\n",
    "    return a+b\n",
    "\n",
    "print(add_num(5,7))\n",
    "print(add_num(10,20))"
   ]
  },
  {
   "cell_type": "code",
   "execution_count": null,
   "id": "a4b05fd9",
   "metadata": {},
   "outputs": [],
   "source": [
    "def max_of_three(a,b,c):\n",
    "    "
   ]
  }
 ],
 "metadata": {
  "kernelspec": {
   "display_name": "Python 3",
   "language": "python",
   "name": "python3"
  },
  "language_info": {
   "codemirror_mode": {
    "name": "ipython",
    "version": 3
   },
   "file_extension": ".py",
   "mimetype": "text/x-python",
   "name": "python",
   "nbconvert_exporter": "python",
   "pygments_lexer": "ipython3",
   "version": "3.12.5"
  }
 },
 "nbformat": 4,
 "nbformat_minor": 5
}
