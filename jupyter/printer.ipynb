{
 "cells": [
  {
   "cell_type": "code",
   "execution_count": 4,
   "id": "b4a5f969",
   "metadata": {},
   "outputs": [
    {
     "name": "stdout",
     "output_type": "stream",
     "text": [
      "안녕하세요\n",
      "'안녕하세요'\n"
     ]
    }
   ],
   "source": [
    "str = \"안녕하세요\"\n",
    "print(str)\n",
    "print(\"'안녕하세요'\")"
   ]
  },
  {
   "cell_type": "code",
   "execution_count": 2,
   "id": "2d18fce3",
   "metadata": {},
   "outputs": [
    {
     "name": "stdout",
     "output_type": "stream",
     "text": [
      "10 20 30\n"
     ]
    }
   ],
   "source": [
    "a=10\n",
    "b=20\n",
    "c=30\n",
    "print(a,b,c)"
   ]
  },
  {
   "cell_type": "code",
   "execution_count": 3,
   "id": "76fcfe03",
   "metadata": {},
   "outputs": [
    {
     "name": "stdout",
     "output_type": "stream",
     "text": [
      "10 20 30\n"
     ]
    }
   ],
   "source": [
    "print(a,b,c)"
   ]
  },
  {
   "cell_type": "code",
   "execution_count": 6,
   "id": "d2d1ae22",
   "metadata": {},
   "outputs": [
    {
     "name": "stdout",
     "output_type": "stream",
     "text": [
      "4.140000000000001\n",
      "<class 'int'>\n",
      "3.14\n",
      "<class 'float'>\n"
     ]
    }
   ],
   "source": [
    "pi=3.14\n",
    "a=1\n",
    "print(pi+a)\n",
    "print(type(a))\n",
    "a=3.14\n",
    "print(a)\n",
    "print(type(a))\n"
   ]
  },
  {
   "cell_type": "code",
   "execution_count": 7,
   "id": "5dc72b72",
   "metadata": {},
   "outputs": [
    {
     "name": "stdout",
     "output_type": "stream",
     "text": [
      "안녕하세요\n"
     ]
    }
   ],
   "source": [
    "print(str)"
   ]
  },
  {
   "cell_type": "code",
   "execution_count": 9,
   "id": "66ee6604",
   "metadata": {},
   "outputs": [
    {
     "name": "stdout",
     "output_type": "stream",
     "text": [
      "현재의 세율은 35.0 %입니다\n"
     ]
    }
   ],
   "source": [
    "TAX_RATE=0.35\n",
    "tax=1000*TAX_RATE\n",
    "income=1000-tax\n",
    "print(\"현재의 세율은\",TAX_RATE*100,\"%입니다\")"
   ]
  },
  {
   "cell_type": "code",
   "execution_count": 1,
   "id": "cfa80520",
   "metadata": {},
   "outputs": [
    {
     "name": "stdout",
     "output_type": "stream",
     "text": [
      "200\n"
     ]
    }
   ],
   "source": [
    "#사각형의 가로 길이\n",
    "width=10\n",
    "#사각형의 세로 길이\n",
    "height=20\n",
    "#사각형의 면적 계산\n",
    "area=width*height\n",
    "print(area)"
   ]
  },
  {
   "cell_type": "code",
   "execution_count": null,
   "id": "a79521ef",
   "metadata": {},
   "outputs": [],
   "source": [
    "side1=int(input(\"삼각형의 첫 번쨰 변의 길이:\"))\n",
    "side2=int(input(\"삼각형의 두 번쨰 변의 길이:\"))\n",
    "\n",
    "print('삼각형의 나머지 변의 최대 길이 =',(side1+side2)-1)"
   ]
  },
  {
   "cell_type": "code",
   "execution_count": null,
   "id": "81ed30db",
   "metadata": {},
   "outputs": [],
   "source": [
    "f=int(input('화씨 온도를 입력하시오:'))\n",
    "c=round((f-32.0)*(5/9),2)\n",
    "print(\"화씨\",f,\"도는 섭씨\",c,\"도에 해당합니다\")"
   ]
  },
  {
   "cell_type": "code",
   "execution_count": null,
   "id": "c5759641",
   "metadata": {},
   "outputs": [],
   "source": [
    "cost=int(input('음식값:'))\n",
    "tax=(cost)*(1/10)\n",
    "total=cost+tax\n",
    "print('전체 음식값은',total,'입니다')"
   ]
  },
  {
   "cell_type": "code",
   "execution_count": null,
   "id": "8c32eb0e",
   "metadata": {},
   "outputs": [],
   "source": [
    "x1=int(input('x1='))\n",
    "y1=int(input('y1='))\n",
    "x2=int(input('x2='))\n",
    "y2=int(input('y2='))\n",
    "\n",
    "d=((x1-x2)**2+(y1-y2)**2)**0.5\n",
    "print('두 점 사이의 거리=',d)"
   ]
  },
  {
   "cell_type": "code",
   "execution_count": null,
   "id": "fecc595d",
   "metadata": {},
   "outputs": [],
   "source": [
    "num=int(input('정수:'))\n",
    "\n",
    "fourth=num//1000\n",
    "third=(num%1000)//100\n",
    "second=(num%100)//10\n",
    "first=(num%10)\n",
    "\n",
    "sum=fourth+third+second+first\n",
    "print(sum)"
   ]
  },
  {
   "cell_type": "code",
   "execution_count": null,
   "id": "ad9e2cc8",
   "metadata": {},
   "outputs": [],
   "source": [
    "num=int(input('숫자를 입력하시오:'))\n",
    "\n",
    "if num>=100000 and num<1000000:\n",
    "    moreT=num//1000\n",
    "    lessT=num%1000\n",
    "    print(moreT,\",\",lessT)\n",
    "    print(str(moreT)+\",\"+str(lessT))\n",
    "    print(\"%d,%d\"%(moreT,lessT))\n",
    "    print(f\"{moreT},{lessT}\")\n",
    "\n",
    "else:\n",
    "    print(\"숫자가 범위에 없습니다.\")"
   ]
  },
  {
   "cell_type": "code",
   "execution_count": null,
   "id": "a0c76001",
   "metadata": {},
   "outputs": [],
   "source": [
    "age=int(input('나이를 입력하세요:'))\n",
    "if(age>=19):\n",
    "    print('주류를 구매할 수 있습니다')\n",
    "\n",
    "else:\n",
    "    print('주류를 구매할 수 없습니다')"
   ]
  },
  {
   "cell_type": "code",
   "execution_count": null,
   "id": "906da09e",
   "metadata": {},
   "outputs": [],
   "source": [
    "sales=int(input('물건 가격'))\n",
    "if sales > 1000 :\n",
    "    discount = sales*0.1\n",
    "    print(discount,\"할인 되었음\")\n",
    "else:\n",
    "    if sales>500:\n",
    "        discount=sales*0.05\n",
    "        print(discount,\"할인 되었음\")\n",
    "    else:\n",
    "        print(\"할인은 없습니다\")"
   ]
  },
  {
   "cell_type": "code",
   "execution_count": null,
   "id": "46b8b9ae",
   "metadata": {},
   "outputs": [],
   "source": [
    "score=int(input(\"성적\"))\n",
    "\n",
    "if score>=90:\n",
    "    print(\"A\")\n",
    "elif score>=80:\n",
    "    print(\"B\")\n",
    "elif score>=70:\n",
    "    print(\"C\")\n",
    "elif score>=60:\n",
    "    print(\"D\")\n",
    "else:\n",
    "    print(\"F\")"
   ]
  },
  {
   "cell_type": "code",
   "execution_count": null,
   "id": "e2e4dc8d",
   "metadata": {},
   "outputs": [],
   "source": [
    "appleQuality=input(\"사과의 상태\")\n",
    "applePrice=int(input('사과 1개의 가격'))\n",
    "\n",
    "if appleQuality==\"신선\":\n",
    "    if applePrice<1000:\n",
    "        print(\"10개 삼\")\n",
    "    else:\n",
    "        print(\"5개 삼\")\n",
    "\n",
    "else:\n",
    "    printt(\"사과 안 삼\")"
   ]
  },
  {
   "cell_type": "code",
   "execution_count": null,
   "id": "469c5565",
   "metadata": {},
   "outputs": [],
   "source": [
    "a=int(input('정수1:'))\n",
    "b=int(input('정수2:'))\n",
    "if a%b==0:\n",
    "    print(\"약수입니다\")\n",
    "else:\n",
    "    print(\"약수아님\")\n"
   ]
  },
  {
   "cell_type": "code",
   "execution_count": null,
   "id": "e059b7ee",
   "metadata": {},
   "outputs": [],
   "source": [
    "temp=int(input('현재온도'))\n",
    "if 120>temp>=25:\n",
    "    print('반바지 추천')\n",
    "elif temp<25:\n",
    "    print('긴바지 추천')\n",
    "elif temp>120:\n",
    "    print('자살하시오')\n",
    "\n",
    "else:\n",
    "    print('잘못된 입력')\n"
   ]
  },
  {
   "cell_type": "code",
   "execution_count": 12,
   "id": "7ebb81bf",
   "metadata": {},
   "outputs": [
    {
     "name": "stdout",
     "output_type": "stream",
     "text": [
      "Triangle\n"
     ]
    }
   ],
   "source": [
    "a=input('하나의 문장 입력:')\n",
    "\n",
    "if a=='R' or a=='r':\n",
    "    print('Rectangle')\n",
    "elif a=='T' or  a=='t':\n",
    "    print('Triangle')\n",
    "elif a=='C' or a=='c':\n",
    "    print('Circle')\n",
    "\n",
    "else:\n",
    "    print('Unknown')\n"
   ]
  },
  {
   "cell_type": "code",
   "execution_count": 6,
   "id": "6962afbd",
   "metadata": {},
   "outputs": [
    {
     "name": "stdout",
     "output_type": "stream",
     "text": [
      "잘못된 입력입니다.\n"
     ]
    }
   ],
   "source": [
    "a=int(input('반지름을 입력하세요:'))\n",
    "pi=3.141592\n",
    "area=pi*(a**2)\n",
    "if a < 0:\n",
    "    print('잘못된 입력입니다.')\n",
    "else:\n",
    "    print(area)"
   ]
  },
  {
   "cell_type": "code",
   "execution_count": null,
   "id": "89e00e2e",
   "metadata": {},
   "outputs": [
    {
     "ename": "SyntaxError",
     "evalue": "invalid syntax (2497851093.py, line 12)",
     "output_type": "error",
     "traceback": [
      "  \u001b[36mCell\u001b[39m\u001b[36m \u001b[39m\u001b[32mIn[10]\u001b[39m\u001b[32m, line 12\u001b[39m\n\u001b[31m    \u001b[39m\u001b[31mprint('제일 작은 정수는',%s,'입니다')\u001b[39m\n                      ^\n\u001b[31mSyntaxError\u001b[39m\u001b[31m:\u001b[39m invalid syntax\n"
     ]
    }
   ],
   "source": [
    "a=int(input('첫번쨰 정수:'))\n",
    "b=int(input('두번째 정수:'))\n",
    "c=int(input('세번째 정수:'))\n",
    "\n",
    "if a<c:\n",
    "    min=a a=3\n",
    "else:\n",
    "    min=c\n",
    "\n",
    "\n"
   ]
  },
  {
   "cell_type": "code",
   "execution_count": 13,
   "id": "858b9cef",
   "metadata": {},
   "outputs": [
    {
     "name": "stdout",
     "output_type": "stream",
     "text": [
      "컴퓨터의 선택 (1:가위 2:바위 3:보): 3\n",
      "컴퓨터가 이겼음\n"
     ]
    }
   ],
   "source": [
    "import random\n",
    "computer=random.randint(1,3)\n",
    "\n",
    "choice=int(input('선택하시오(1:가위 2:바위 3:보)'))\n",
    "print('컴퓨터의 선택 (1:가위 2:바위 3:보):',computer)\n",
    "\n",
    "if choice==1:\n",
    "    if computer==1:\n",
    "        print('컴퓨터와 비겼음')\n",
    "    elif computer==2:\n",
    "        print('컴퓨터가 이겼음')\n",
    "    else:\n",
    "        print('컴퓨터가 졌음')\n",
    "elif choice==2:\n",
    "    if computer==1:\n",
    "        print('컴퓨터가 졌음')\n",
    "    elif computer==2:\n",
    "        print('컴퓨터와 비겼음')\n",
    "    else:\n",
    "        print('컴퓨터가 이겼음')\n",
    "elif choice==3:\n",
    "    if computer==1:\n",
    "        print('컴퓨터가 이겼음')\n",
    "    elif computer==2:\n",
    "        print('컴퓨터가 졌음')\n",
    "    else:\n",
    "        print('컴퓨터와 비겼음')"
   ]
  },
  {
   "cell_type": "code",
   "execution_count": 15,
   "id": "b4140ac9",
   "metadata": {},
   "outputs": [
    {
     "name": "stdout",
     "output_type": "stream",
     "text": [
      "입장가능\n"
     ]
    }
   ],
   "source": [
    "height=int(input('키를 입력하시오(cm):'))\n",
    "age=int(input('나이를 입력하시오:'))\n",
    "\n",
    "if height>=140 and age>10:\n",
    "    print('입장가능')\n",
    "else:\n",
    "    print('입장불가능')\n",
    "    "
   ]
  },
  {
   "cell_type": "code",
   "execution_count": null,
   "id": "a5b0ae0e",
   "metadata": {},
   "outputs": [],
   "source": [
    "weight,height=eval(input('체중과 키를 입력하시오:'))\n",
    "std=(height-100)*(0.9)\n",
    "\n",
    "if weight>std:\n",
    "    print('과체중입니다.')\n",
    "elif weight==std:\n",
    "    print('표준 체중입니다.')\n",
    "else:\n",
    "    print('저체중 입니다.')\n",
    "    "
   ]
  },
  {
   "cell_type": "code",
   "execution_count": 27,
   "id": "5a22e93f",
   "metadata": {},
   "outputs": [
    {
     "name": "stdout",
     "output_type": "stream",
     "text": [
      "정답\n"
     ]
    }
   ],
   "source": [
    "import random\n",
    "\n",
    "num1=random.randrange(0,10)\n",
    "num2=random.randrange(0,10)\n",
    "\n",
    "cal=random.randint(1,4)\n",
    "\n",
    "if cal==1:\n",
    "    answer=num1+num2\n",
    "    reply=int(input('{0}+{1}의 값은?'.format(num1,num2)))\n",
    "    if answer==reply:\n",
    "        print('정답')\n",
    "    else:\n",
    "        print('오답')\n",
    "elif cal==2:\n",
    "    answer=num1-num2\n",
    "    reply=int(input('{0}-{1}의 값은?'.format(num1,num2)))\n",
    "    if answer==reply:\n",
    "        print('정답')\n",
    "    else:\n",
    "        print('오답')\n",
    "elif cal==3:\n",
    "    answer=num1*num2\n",
    "    reply=int(input('{0}*{1}의 값은?'.format(num1,num2)))\n",
    "    if answer==reply:\n",
    "        print('정답')\n",
    "    else:\n",
    "        print('오답')\n",
    "elif cal==4:\n",
    "    answer=num1/num2\n",
    "    reply=int(input('{0}/{1}의 값은'.format(num1,num2)))\n",
    "    if answer==reply:\n",
    "        print('정답')\n",
    "    else:\n",
    "        print('오답')\n",
    "        "
   ]
  },
  {
   "cell_type": "code",
   "execution_count": 55,
   "id": "00535896",
   "metadata": {},
   "outputs": [
    {
     "name": "stdout",
     "output_type": "stream",
     "text": [
      "정답\n"
     ]
    }
   ],
   "source": [
    "import random\n",
    "\n",
    "num1=random.randrange(1,20)\n",
    "num2=random.randrange(1,20)\n",
    "\n",
    "cal=random.randint(1,4)\n",
    "\n",
    "if cal==1:\n",
    "    answer=num1+num2\n",
    "    reply=int(input(f\"{num1}+{num2},의 값은?\"))\n",
    "    if answer==reply:\n",
    "        print('정답')\n",
    "    else:\n",
    "        print('오답')\n",
    "if cal==2:\n",
    "    answer=num1-num2\n",
    "    reply=int(input(f'{num1}-{num2}의 값은?'))\n",
    "    if answer==reply:\n",
    "        print('정답')\n",
    "    else:\n",
    "        print('오답')\n",
    "if cal==3:\n",
    "    answer=num1*num2\n",
    "    reply=int(input(f'{num1}*{num2}의 값은?'))\n",
    "    if answer==reply:\n",
    "        print('정답')\n",
    "    else:\n",
    "        print('오답')\n",
    "if cal==4:\n",
    "    answer=num1/num2\n",
    "    reply=int(input(f'{num1}/{num2}의 값은?'))\n",
    "    if answer==reply:\n",
    "        print('정답')\n",
    "    else:\n",
    "        print('오답')\n",
    "\n"
   ]
  },
  {
   "cell_type": "code",
   "execution_count": 4,
   "id": "49be41dc",
   "metadata": {},
   "outputs": [
    {
     "ename": "Terminator",
     "evalue": "",
     "output_type": "error",
     "traceback": [
      "\u001b[31m---------------------------------------------------------------------------\u001b[39m",
      "\u001b[31mTerminator\u001b[39m                                Traceback (most recent call last)",
      "\u001b[36mCell\u001b[39m\u001b[36m \u001b[39m\u001b[32mIn[4]\u001b[39m\u001b[32m, line 13\u001b[39m\n\u001b[32m     10\u001b[39m     t.left(\u001b[32m360\u001b[39m/n)\n\u001b[32m     12\u001b[39m turtle.mainloop()\n\u001b[32m---> \u001b[39m\u001b[32m13\u001b[39m \u001b[43mturtle\u001b[49m\u001b[43m.\u001b[49m\u001b[43mbye\u001b[49m\u001b[43m(\u001b[49m\u001b[43m)\u001b[49m\n",
      "\u001b[36mFile \u001b[39m\u001b[32m<string>:5\u001b[39m, in \u001b[36mbye\u001b[39m\u001b[34m()\u001b[39m\n",
      "\u001b[31mTerminator\u001b[39m: "
     ]
    }
   ],
   "source": [
    "import turtle\n",
    "t=turtle.Turtle()\n",
    "t.shape(\"turtle\")\n",
    "\n",
    "s=turtle.textinput(\"\",\"몇각형을 원하시나요?:\")\n",
    "n=int(s)\n",
    "\n",
    "for i in range(n):\n",
    "    t.forward(100)\n",
    "    t.left(360/n)\n",
    "\n",
    "turtle.mainloop()\n",
    "turtle.bye()\n"
   ]
  },
  {
   "cell_type": "code",
   "execution_count": 2,
   "id": "3a306579",
   "metadata": {},
   "outputs": [
    {
     "name": "stdout",
     "output_type": "stream",
     "text": [
      "2\n",
      "3\n",
      "4\n"
     ]
    }
   ],
   "source": [
    "x=2\n",
    "for y in range(3):\n",
    "    print(y+x)"
   ]
  },
  {
   "cell_type": "code",
   "execution_count": 4,
   "id": "f7418d81",
   "metadata": {},
   "outputs": [
    {
     "name": "stdout",
     "output_type": "stream",
     "text": [
      "0\n",
      "1\n",
      "2\n"
     ]
    }
   ],
   "source": [
    "for x in range(3):\n",
    "    print(x)"
   ]
  },
  {
   "cell_type": "code",
   "execution_count": 6,
   "id": "57487a65",
   "metadata": {},
   "outputs": [
    {
     "name": "stdout",
     "output_type": "stream",
     "text": [
      "blackmal"
     ]
    }
   ],
   "source": [
    "for x in \"blackmal\":\n",
    "    print(x,end=\"\")\n",
    "    "
   ]
  },
  {
   "cell_type": "code",
   "execution_count": 20,
   "id": "bca5c9af",
   "metadata": {},
   "outputs": [
    {
     "name": "stdout",
     "output_type": "stream",
     "text": [
      "현재 확인 중인 과일:apple\n",
      "현재 확인 중인 과일:banana\n",
      "찾는 과일'orange'을(를)찾았습니다:\n",
      "탐색을 완료했습니다.\n"
     ]
    }
   ],
   "source": [
    "fruits=[\"apple\",\"banana\",\"orange\",\"grape\",\"kiwi\"]\n",
    "search_fruit=\"orange\"\n",
    "\n",
    "for fruit in fruits:\n",
    "    if fruit ==search_fruit:\n",
    "        print(f\"찾는 과일'{search_fruit}'을(를)찾았습니다:\")\n",
    "        break\n",
    "    print(f\"현재 확인 중인 과일:{fruit}\")\n",
    "\n",
    "print(\"탐색을 완료했습니다.\")"
   ]
  },
  {
   "cell_type": "code",
   "execution_count": 22,
   "id": "6ec375b1",
   "metadata": {},
   "outputs": [
    {
     "name": "stdout",
     "output_type": "stream",
     "text": [
      "환영합니다\n",
      "환영합니다\n",
      "환영합니다\n",
      "환영합니다\n",
      "환영합니다\n",
      "반복이 종효되었습니다\n"
     ]
    }
   ],
   "source": [
    "i=0\n",
    "while i<5:\n",
    "    print(\"환영합니다\")\n",
    "    i=i+1\n",
    "print(\"반복이 종효되었습니다\")\n"
   ]
  },
  {
   "cell_type": "code",
   "execution_count": 26,
   "id": "76f5bb20",
   "metadata": {},
   "outputs": [
    {
     "name": "stdout",
     "output_type": "stream",
     "text": [
      "피곤해 죽겠네\n",
      "피곤해 죽겠네\n",
      "피곤해 죽겠네\n",
      "피곤해 죽겠네\n",
      "피곤해 죽겠네\n",
      "피곤해 죽겠네\n",
      "피곤해 죽겠네\n",
      "피곤해 죽겠네\n",
      "피곤해 죽겠네\n",
      "피곤해 죽겠네\n",
      "시마이\n"
     ]
    }
   ],
   "source": [
    "i=1\n",
    "while i<=10:\n",
    "    print(\"피곤해 죽겠네\")\n",
    "    i+=1\n",
    "print(\"시마이\")"
   ]
  },
  {
   "cell_type": "code",
   "execution_count": 30,
   "id": "86cd18f3",
   "metadata": {},
   "outputs": [
    {
     "name": "stdout",
     "output_type": "stream",
     "text": [
      "종료하려면 음수값을 입력하세요.\n"
     ]
    }
   ],
   "source": [
    "score=0\n",
    "total_sum=0\n",
    "c=0\n",
    "print('종료하려면 음수값을 입력하세요.')\n",
    "while score>=0:\n",
    "    score = int(input('점수를 입력하세요:'))\n",
    "    if score >0:\n",
    "        total_sum += score\n",
    "        c+=1\n",
    "if c>0:\n",
    "    average=total_sum/c\n",
    "    print(\"평균 점수는\",average,\"입니다\")\n"
   ]
  },
  {
   "cell_type": "code",
   "execution_count": 47,
   "id": "f054cb1b",
   "metadata": {},
   "outputs": [
    {
     "name": "stdout",
     "output_type": "stream",
     "text": [
      "\n",
      "* * * * * * * * * * * * * * * * * * * * * * * * * \n",
      "* * * * * * * * * * * * * * * * * * * * * * * * * \n",
      "* * * * * * * * * * * * * * * * * * * * * * * * * \n",
      "* * * * * * * * * * * * * * * * * * * * * * * * * \n",
      "* * * * * * * * * * * * * * * * * * * * * * * * * \n",
      "* * * * * * * * * * * * * * * * * * * * * * * * * \n",
      "* * * * * * * * * * * * * * * * * * * * * * * * * \n",
      "* * * * * * * * * * * * * * * * * * * * * * * * * \n",
      "* * * * * * * * * * * * * * * * * * * * * * * * * \n",
      "* * * * * * * * * * * * * * * * * * * * * * * * * \n",
      "* * * * * * * * * * * * * * * * * * * * * * * * * \n",
      "* * * * * * * * * * * * * * * * * * * * * * * * * \n",
      "* * * * * * * * * * * * * * * * * * * * * * * * * \n",
      "* * * * * * * * * * * * * * * * * * * * * * * * * \n",
      "* * * * * * * * * * * * * * * * * * * * * * * * * \n",
      "* * * * * * * * * * * * * * * * * * * * * * * * * \n",
      "* * * * * * * * * * * * * * * * * * * * * * * * * \n",
      "* * * * * * * * * * * * * * * * * * * * * * * * * \n",
      "* * * * * * * * * * * * * * * * * * * * * * * * * \n",
      "* * * * * * * * * * * * * * * * * * * * * * * * * \n",
      "* * * * * * * * * * * * * * * * * * * * * * * * * \n",
      "* * * * * * * * * * * * * * * * * * * * * * * * * \n",
      "* * * * * * * * * * * * * * * * * * * * * * * * * \n",
      "* * * * * * * * * * * * * * * * * * * * * * * * * \n",
      "* * * * * * * * * * * * * * * * * * * * * * * * * "
     ]
    }
   ],
   "source": [
    "x=int(input(\"정수를 입력하세요:\"))\n",
    "for y in range(x):\n",
    "    print()\n",
    "    for z in range(x):\n",
    "        print(\"*\",end=\" \")"
   ]
  },
  {
   "cell_type": "code",
   "execution_count": 51,
   "id": "1cc7be61",
   "metadata": {},
   "outputs": [
    {
     "name": "stdout",
     "output_type": "stream",
     "text": [
      "\n",
      "***************************************************************************************************\n",
      "***************************************************************************************************\n",
      "***************************************************************************************************\n",
      "***************************************************************************************************\n",
      "***************************************************************************************************\n",
      "***************************************************************************************************\n",
      "***************************************************************************************************\n",
      "***************************************************************************************************\n",
      "***************************************************************************************************\n",
      "***************************************************************************************************\n",
      "***************************************************************************************************\n",
      "***************************************************************************************************\n",
      "***************************************************************************************************\n",
      "***************************************************************************************************\n",
      "***************************************************************************************************\n",
      "***************************************************************************************************\n",
      "***************************************************************************************************\n",
      "***************************************************************************************************\n",
      "***************************************************************************************************\n",
      "***************************************************************************************************\n",
      "***************************************************************************************************\n",
      "***************************************************************************************************\n",
      "***************************************************************************************************\n",
      "***************************************************************************************************\n",
      "***************************************************************************************************\n",
      "***************************************************************************************************\n",
      "***************************************************************************************************\n",
      "***************************************************************************************************\n",
      "***************************************************************************************************\n",
      "***************************************************************************************************\n",
      "***************************************************************************************************\n",
      "***************************************************************************************************\n",
      "***************************************************************************************************\n",
      "***************************************************************************************************\n",
      "***************************************************************************************************\n",
      "***************************************************************************************************\n",
      "***************************************************************************************************\n",
      "***************************************************************************************************\n",
      "***************************************************************************************************\n",
      "***************************************************************************************************\n",
      "***************************************************************************************************\n",
      "***************************************************************************************************\n",
      "***************************************************************************************************\n",
      "***************************************************************************************************\n",
      "***************************************************************************************************\n",
      "***************************************************************************************************\n",
      "***************************************************************************************************\n",
      "***************************************************************************************************\n",
      "***************************************************************************************************\n",
      "***************************************************************************************************\n",
      "***************************************************************************************************\n",
      "***************************************************************************************************\n",
      "***************************************************************************************************\n",
      "***************************************************************************************************\n",
      "***************************************************************************************************\n",
      "***************************************************************************************************\n",
      "***************************************************************************************************\n",
      "***************************************************************************************************\n",
      "***************************************************************************************************\n",
      "***************************************************************************************************\n",
      "***************************************************************************************************\n",
      "***************************************************************************************************\n",
      "***************************************************************************************************\n",
      "***************************************************************************************************\n",
      "***************************************************************************************************\n",
      "***************************************************************************************************\n",
      "***************************************************************************************************\n",
      "***************************************************************************************************\n",
      "***************************************************************************************************\n",
      "***************************************************************************************************\n",
      "***************************************************************************************************\n",
      "***************************************************************************************************\n",
      "***************************************************************************************************\n",
      "***************************************************************************************************\n",
      "***************************************************************************************************\n",
      "***************************************************************************************************\n",
      "***************************************************************************************************\n",
      "***************************************************************************************************\n",
      "***************************************************************************************************\n",
      "***************************************************************************************************\n",
      "***************************************************************************************************\n",
      "***************************************************************************************************\n",
      "***************************************************************************************************\n",
      "***************************************************************************************************\n",
      "***************************************************************************************************\n",
      "***************************************************************************************************\n",
      "***************************************************************************************************\n",
      "***************************************************************************************************\n",
      "***************************************************************************************************\n",
      "***************************************************************************************************\n",
      "***************************************************************************************************\n",
      "***************************************************************************************************\n",
      "***************************************************************************************************\n",
      "***************************************************************************************************\n",
      "***************************************************************************************************\n",
      "***************************************************************************************************\n",
      "***************************************************************************************************\n",
      "***************************************************************************************************\n",
      "***************************************************************************************************"
     ]
    }
   ],
   "source": [
    "x=int(input('정수를 입력하세요'))\n",
    "for y in range(x):\n",
    "    print()\n",
    "    for z in range(x):\n",
    "        print(\"*\",end=\"\")\n",
    "    \n",
    "\n",
    "\n",
    "\n"
   ]
  },
  {
   "cell_type": "code",
   "execution_count": 58,
   "id": "923d7e47",
   "metadata": {},
   "outputs": [
    {
     "name": "stdout",
     "output_type": "stream",
     "text": [
      "모음의 갯수 4\n",
      "자음의 갯수 8\n"
     ]
    }
   ],
   "source": [
    "original=input(\"문자열을 입력하세요:\")\n",
    "word=original.lower()\n",
    "vowels=0\n",
    "consonants=0\n",
    "\n",
    "if len(original)>0 and original.isalpha():\n",
    "    for char in word:\n",
    "        if char in 'aeiou':\n",
    "            vowels=vowels + 1\n",
    "        else:\n",
    "            consonants =consonants+1\n",
    "\n",
    "print('모음의 갯수',vowels)\n",
    "print('자음의 갯수',consonants)"
   ]
  },
  {
   "cell_type": "code",
   "execution_count": 62,
   "id": "268f2678",
   "metadata": {},
   "outputs": [
    {
     "name": "stdout",
     "output_type": "stream",
     "text": [
      "모음의 갯수 22\n",
      "자음의 갯수 22\n"
     ]
    }
   ],
   "source": [
    "original=input('문자열을 입력하세요:')\n",
    "word=original.lower()\n",
    "vowels=0\n",
    "consonants=0\n",
    "\n",
    "for char in original:\n",
    "    if 0xAC00<=ord(char)<=0xD7A3:\n",
    "        original=input('알파벳이 아닙니다,다시 입력해주세요:')\n",
    "        break\n",
    "if len(original)>0 and original.isalpha():\n",
    "    for char in word:\n",
    "        if char in \"aeiou\":\n",
    "           vowels=vowels+1\n",
    "        else:\n",
    "            consonants=consonants+1\n",
    "\n",
    "print(\"모음의 갯수\",vowels)\n",
    "print('자음의 갯수',consonants)\n"
   ]
  },
  {
   "cell_type": "code",
   "execution_count": 66,
   "id": "befadafc",
   "metadata": {},
   "outputs": [
    {
     "name": "stdout",
     "output_type": "stream",
     "text": [
      "2 4 6 8 10 12 14 16 18 20 22 24 26 28 30 32 34 36 38 40 42 44 46 48 50 "
     ]
    }
   ],
   "source": [
    "for i in range(2,51,2):\n",
    "    print(i,end=\" \")"
   ]
  },
  {
   "cell_type": "code",
   "execution_count": 3,
   "id": "d29b9aad",
   "metadata": {},
   "outputs": [
    {
     "name": "stdout",
     "output_type": "stream",
     "text": [
      "23\n"
     ]
    }
   ],
   "source": [
    "\n",
    "n=1\n",
    "while n**2<=500:\n",
    "    n+=1\n",
    "print(n)\n",
    "\n",
    "\n",
    "\n"
   ]
  },
  {
   "cell_type": "code",
   "execution_count": null,
   "id": "13507e08",
   "metadata": {},
   "outputs": [
    {
     "name": "stdout",
     "output_type": "stream",
     "text": [
      "1\n",
      "5\n",
      "14\n",
      "30\n"
     ]
    }
   ],
   "source": [
    "n=int(input(\"정수를 입력하세요:\"))\n",
    "total_sum=0\n",
    "for n in range(1,n+1):\n",
    "    total_sum=(total_sum+n**2)\n",
    "print(total_sum)\n",
    "\n"
   ]
  },
  {
   "cell_type": "code",
   "execution_count": 15,
   "id": "4783a0d0",
   "metadata": {},
   "outputs": [
    {
     "name": "stdout",
     "output_type": "stream",
     "text": [
      "\n",
      "\n",
      "*\n",
      "\n",
      "**\n",
      "\n",
      "***\n",
      "\n",
      "****\n",
      "\n",
      "*****\n",
      "\n"
     ]
    }
   ],
   "source": [
    "num=int(input('정수:'))\n",
    "\n",
    "for i in range(num+1):\n",
    "    for j in range(1,num+1):\n",
    "        if j<=i:\n",
    "            print('*',end='')\n",
    "    print('\\n')"
   ]
  },
  {
   "cell_type": "code",
   "execution_count": 18,
   "id": "2f4f8890",
   "metadata": {},
   "outputs": [
    {
     "name": "stdout",
     "output_type": "stream",
     "text": [
      "23\n"
     ]
    }
   ],
   "source": [
    "n=0\n",
    "\n",
    "while n<500:\n",
    "    #if pow(n,2)>500:   이것도 가능\n",
    "    if (n**2)>500:\n",
    "        print(n)\n",
    "        break\n",
    "    n+=1"
   ]
  },
  {
   "cell_type": "code",
   "execution_count": 20,
   "id": "00b6d904",
   "metadata": {},
   "outputs": [
    {
     "name": "stdout",
     "output_type": "stream",
     "text": [
      "계산값은 30 입니다.\n"
     ]
    }
   ],
   "source": [
    "n=int(input('n의 값을 입력하시오:'))\n",
    "sum=0\n",
    "\n",
    "for i in range(1,n+1):\n",
    "    sum+=i**2\n",
    "\n",
    "print('계산값은',sum,'입니다.')"
   ]
  },
  {
   "cell_type": "code",
   "execution_count": 23,
   "id": "1fe4c993",
   "metadata": {},
   "outputs": [
    {
     "name": "stdout",
     "output_type": "stream",
     "text": [
      "1616 와 1 의 최대공약수는 1 입니다.\n"
     ]
    }
   ],
   "source": [
    "a=int(input('첫번쨰 정수:'))\n",
    "b=int(input('두번째 정수:'))\n",
    "common=0  #최대공약수\n",
    "max=a\n",
    "if a<b:\n",
    "    max=b  #두 수중 큰 수를 max값에 넣는다\n",
    "else:\n",
    "    max=a \n",
    "#최대 공약수 구하기\n",
    "for i in range(1,max):\n",
    "    if a%i==0 and b%i==0:\n",
    "        common=i\n",
    "\n",
    "print(a,'와',b,'의 최대공약수는',common,'입니다.')"
   ]
  },
  {
   "cell_type": "code",
   "execution_count": 25,
   "id": "4338998f",
   "metadata": {},
   "outputs": [
    {
     "name": "stdout",
     "output_type": "stream",
     "text": [
      "0,1,1,2,3,5\n"
     ]
    }
   ],
   "source": [
    "num=int(input('몇 번쨰 항까지 구할까요?:'))\n",
    "element1=0\n",
    "element2=0\n",
    "\n",
    "for i in range(num+1):\n",
    "    if i<2:\n",
    "        element2=element1\n",
    "        element1=i\n",
    "        sum=element1+element2\n",
    "    else:\n",
    "        sum=element1+element2\n",
    "        element2=element1\n",
    "        element1=sum\n",
    "\n",
    "    if i!=num:\n",
    "        print(sum,end=',')\n",
    "    else:\n",
    "        print(sum)"
   ]
  },
  {
   "cell_type": "code",
   "execution_count": 28,
   "id": "6594b294",
   "metadata": {},
   "outputs": [
    {
     "name": "stdout",
     "output_type": "stream",
     "text": [
      "2 3 5 7 11 13 17 19 "
     ]
    }
   ],
   "source": [
    "maxNum=20\n",
    "number=2\n",
    "count=0\n",
    "\n",
    "while number<maxNum:\n",
    "    divisor=2\n",
    "    prime=True\n",
    "\n",
    "    while divisor<number:\n",
    "        if number%divisor==0:\n",
    "            prime=False\n",
    "            break\n",
    "        divisor+=1\n",
    "    if prime:\n",
    "        count+=1\n",
    "        print(number,end=\" \")\n",
    "    number+=1\n",
    "\n",
    "    #while문 -> for "
   ]
  },
  {
   "cell_type": "code",
   "execution_count": null,
   "id": "1d27d295",
   "metadata": {},
   "outputs": [],
   "source": [
    "maxNum=20\n",
    "number=2\n",
    "count=0\n",
    "\n",
    "for i in range(2,21):\n",
    "    print()\n",
    "    if "
   ]
  },
  {
   "cell_type": "code",
   "execution_count": 31,
   "id": "255e1656",
   "metadata": {},
   "outputs": [
    {
     "name": "stdout",
     "output_type": "stream",
     "text": [
      "Active code page: 65001\n",
      "Collecting pyautogui\n",
      "  Using cached PyAutoGUI-0.9.54.tar.gz (61 kB)\n",
      "  Installing build dependencies: started\n",
      "  Installing build dependencies: finished with status 'done'\n",
      "  Getting requirements to build wheel: started\n",
      "  Getting requirements to build wheel: finished with status 'done'\n",
      "  Preparing metadata (pyproject.toml): started\n",
      "  Preparing metadata (pyproject.toml): finished with status 'done'\n",
      "Collecting pymsgbox (from pyautogui)\n",
      "  Using cached PyMsgBox-1.0.9.tar.gz (18 kB)\n",
      "  Installing build dependencies: started\n",
      "  Installing build dependencies: finished with status 'done'\n",
      "  Getting requirements to build wheel: started\n",
      "  Getting requirements to build wheel: finished with status 'done'\n",
      "  Preparing metadata (pyproject.toml): started\n",
      "  Preparing metadata (pyproject.toml): finished with status 'done'\n",
      "Collecting pytweening>=1.0.4 (from pyautogui)\n",
      "  Using cached pytweening-1.2.0.tar.gz (171 kB)\n",
      "  Installing build dependencies: started\n",
      "  Installing build dependencies: finished with status 'done'\n",
      "  Getting requirements to build wheel: started\n",
      "  Getting requirements to build wheel: finished with status 'done'\n",
      "  Preparing metadata (pyproject.toml): started\n",
      "  Preparing metadata (pyproject.toml): finished with status 'done'\n",
      "Collecting pyscreeze>=0.1.21 (from pyautogui)\n",
      "  Using cached pyscreeze-1.0.1.tar.gz (27 kB)\n",
      "  Installing build dependencies: started\n",
      "  Installing build dependencies: finished with status 'done'\n",
      "  Getting requirements to build wheel: started\n",
      "  Getting requirements to build wheel: finished with status 'done'\n",
      "  Preparing metadata (pyproject.toml): started\n",
      "  Preparing metadata (pyproject.toml): finished with status 'done'\n",
      "Collecting pygetwindow>=0.0.5 (from pyautogui)\n",
      "  Using cached PyGetWindow-0.0.9.tar.gz (9.7 kB)\n",
      "  Installing build dependencies: started\n",
      "  Installing build dependencies: finished with status 'done'\n",
      "  Getting requirements to build wheel: started\n",
      "  Getting requirements to build wheel: finished with status 'done'\n",
      "  Preparing metadata (pyproject.toml): started\n",
      "  Preparing metadata (pyproject.toml): finished with status 'done'\n",
      "Collecting mouseinfo (from pyautogui)\n",
      "  Using cached MouseInfo-0.1.3.tar.gz (10 kB)\n",
      "  Installing build dependencies: started\n",
      "  Installing build dependencies: finished with status 'done'\n",
      "  Getting requirements to build wheel: started\n",
      "  Getting requirements to build wheel: finished with status 'done'\n",
      "  Preparing metadata (pyproject.toml): started\n",
      "  Preparing metadata (pyproject.toml): finished with status 'done'\n",
      "Collecting pyrect (from pygetwindow>=0.0.5->pyautogui)\n",
      "  Using cached PyRect-0.2.0.tar.gz (17 kB)\n",
      "  Installing build dependencies: started\n",
      "  Installing build dependencies: finished with status 'done'\n",
      "  Getting requirements to build wheel: started\n",
      "  Getting requirements to build wheel: finished with status 'done'\n",
      "  Preparing metadata (pyproject.toml): started\n",
      "  Preparing metadata (pyproject.toml): finished with status 'done'\n",
      "Collecting pyperclip (from mouseinfo->pyautogui)\n",
      "  Using cached pyperclip-1.9.0.tar.gz (20 kB)\n",
      "  Installing build dependencies: started\n",
      "  Installing build dependencies: finished with status 'done'\n",
      "  Getting requirements to build wheel: started\n",
      "  Getting requirements to build wheel: finished with status 'done'\n",
      "  Preparing metadata (pyproject.toml): started\n",
      "  Preparing metadata (pyproject.toml): finished with status 'done'\n",
      "Building wheels for collected packages: pyautogui, pygetwindow, pyscreeze, pytweening, mouseinfo, pymsgbox, pyperclip, pyrect\n",
      "  Building wheel for pyautogui (pyproject.toml): started\n",
      "  Building wheel for pyautogui (pyproject.toml): finished with status 'done'\n",
      "  Created wheel for pyautogui: filename=pyautogui-0.9.54-py3-none-any.whl size=37707 sha256=efe0f6b0002d8b527225ba0ee49e058aa7ff6a5e214e125cb8f9025b99dd583c\n",
      "  Stored in directory: c:\\users\\samsung\\appdata\\local\\pip\\cache\\wheels\\d9\\d6\\47\\04075995b093ecc87c212c9a3dbd34e59456c6fe504d65c3e4\n",
      "  Building wheel for pygetwindow (pyproject.toml): started\n",
      "  Building wheel for pygetwindow (pyproject.toml): finished with status 'done'\n",
      "  Created wheel for pygetwindow: filename=pygetwindow-0.0.9-py3-none-any.whl size=11137 sha256=34330334525026875e380b88fcf5628e2211e9abca25655b1f17549670db3b29\n",
      "  Stored in directory: c:\\users\\samsung\\appdata\\local\\pip\\cache\\wheels\\b3\\39\\81\\34dd7a2eca5f885f1f6e2796761970daf66a2d98ac1904f5f4\n",
      "  Building wheel for pyscreeze (pyproject.toml): started\n",
      "  Building wheel for pyscreeze (pyproject.toml): finished with status 'done'\n",
      "  Created wheel for pyscreeze: filename=pyscreeze-1.0.1-py3-none-any.whl size=14481 sha256=2def41eeb5ecee5ab7953d864b5087fcf997f88d8e81693ee3ae34e7af838004\n",
      "  Stored in directory: c:\\users\\samsung\\appdata\\local\\pip\\cache\\wheels\\cd\\3a\\c2\\7f2839239a069aa3c9564f6777cbb29d733720ef673f104f0d\n",
      "  Building wheel for pytweening (pyproject.toml): started\n",
      "  Building wheel for pytweening (pyproject.toml): finished with status 'done'\n",
      "  Created wheel for pytweening: filename=pytweening-1.2.0-py3-none-any.whl size=8135 sha256=c1b5af545cd34f644c36c1dd61b47198d71b56cee6f6e00ae784a1cceff1e1d0\n",
      "  Stored in directory: c:\\users\\samsung\\appdata\\local\\pip\\cache\\wheels\\23\\d5\\13\\4e9bdadbfe3c78e47c675e7410c0eed2fbb63c5ea6cf1b40e7\n",
      "  Building wheel for mouseinfo (pyproject.toml): started\n",
      "  Building wheel for mouseinfo (pyproject.toml): finished with status 'done'\n",
      "  Created wheel for mouseinfo: filename=mouseinfo-0.1.3-py3-none-any.whl size=10967 sha256=1e02a59d951104ad6d91e0216d7132c129a34ad3444ef9b2a16b3fc5aeebfaa6\n",
      "  Stored in directory: c:\\users\\samsung\\appdata\\local\\pip\\cache\\wheels\\b1\\9b\\f3\\08650eb7f00af32f07789f3c6a101e0d7fc762b9891ae843bb\n",
      "  Building wheel for pymsgbox (pyproject.toml): started\n",
      "  Building wheel for pymsgbox (pyproject.toml): finished with status 'done'\n",
      "  Created wheel for pymsgbox: filename=pymsgbox-1.0.9-py3-none-any.whl size=7467 sha256=5e7b20c4477008ef18a71c6d88dfc2361464afa1cecc077d422c02c56c304574\n",
      "  Stored in directory: c:\\users\\samsung\\appdata\\local\\pip\\cache\\wheels\\55\\e7\\aa\\239163543708d1e15c3d9a1b89dbfe3954b0929a6df2951b83\n",
      "  Building wheel for pyperclip (pyproject.toml): started\n",
      "  Building wheel for pyperclip (pyproject.toml): finished with status 'done'\n",
      "  Created wheel for pyperclip: filename=pyperclip-1.9.0-py3-none-any.whl size=11117 sha256=c39476aba33c84e82bf58101a85568d594202203c18279d953e5bfb93f1dda59\n",
      "  Stored in directory: c:\\users\\samsung\\appdata\\local\\pip\\cache\\wheels\\e0\\e8\\fc\\8ab8aa326e33bc066ccd5f3ca9646eab4299881af933f94f09\n",
      "  Building wheel for pyrect (pyproject.toml): started\n",
      "  Building wheel for pyrect (pyproject.toml): finished with status 'done'\n",
      "  Created wheel for pyrect: filename=pyrect-0.2.0-py2.py3-none-any.whl size=11306 sha256=169b60b056ba0dcebae8130d0973e73c097cca607b148ca6943aa9ed9ad10e68\n",
      "  Stored in directory: c:\\users\\samsung\\appdata\\local\\pip\\cache\\wheels\\0b\\1e\\d7\\0c74bd8f60b39c14d84e307398786002aa7ddc905927cc03c5\n",
      "Successfully built pyautogui pygetwindow pyscreeze pytweening mouseinfo pymsgbox pyperclip pyrect\n",
      "Installing collected packages: pytweening, pyscreeze, pyrect, pyperclip, pymsgbox, pygetwindow, mouseinfo, pyautogui\n",
      "Successfully installed mouseinfo-0.1.3 pyautogui-0.9.54 pygetwindow-0.0.9 pymsgbox-1.0.9 pyperclip-1.9.0 pyrect-0.2.0 pyscreeze-1.0.1 pytweening-1.2.0\n",
      "Note: you may need to restart the kernel to use updated packages.\n"
     ]
    },
    {
     "name": "stderr",
     "output_type": "stream",
     "text": [
      "\n",
      "[notice] A new release of pip is available: 24.2 -> 25.1.1\n",
      "[notice] To update, run: python.exe -m pip install --upgrade pip\n"
     ]
    }
   ],
   "source": [
    "pip install pyautogui\n"
   ]
  },
  {
   "cell_type": "code",
   "execution_count": 35,
   "id": "b66fb8ba",
   "metadata": {},
   "outputs": [
    {
     "name": "stdout",
     "output_type": "stream",
     "text": [
      "Point(x=1805, y=803)\n"
     ]
    }
   ],
   "source": [
    "import pyautogui as pag\n",
    "import time\n",
    "\n",
    "time.sleep(2)\n",
    "print(pag.position())\n",
    "#pag.moveTo(20,400, duration=2)\n",
    "#pag.click()"
   ]
  },
  {
   "cell_type": "code",
   "execution_count": 39,
   "id": "089ce522",
   "metadata": {},
   "outputs": [],
   "source": [
    "pag.moveTo(534 ,211, duration=2)\n",
    "pag.click()"
   ]
  },
  {
   "cell_type": "code",
   "execution_count": 41,
   "id": "c37190f7",
   "metadata": {},
   "outputs": [
    {
     "name": "stdout",
     "output_type": "stream",
     "text": [
      "안녕, 철수\n"
     ]
    }
   ],
   "source": [
    "def say_hello(name):\n",
    "    print('안녕,',name);\n",
    "say_hello('철수')"
   ]
  },
  {
   "cell_type": "code",
   "execution_count": 47,
   "id": "2581654b",
   "metadata": {},
   "outputs": [
    {
     "ename": "SyntaxError",
     "evalue": "invalid syntax. Perhaps you forgot a comma? (1418968869.py, line 2)",
     "output_type": "error",
     "traceback": [
      "  \u001b[36mCell\u001b[39m\u001b[36m \u001b[39m\u001b[32mIn[47]\u001b[39m\u001b[32m, line 2\u001b[39m\n\u001b[31m    \u001b[39m\u001b[31mprint('안녕,',name,'야,'msg):\u001b[39m\n                     ^\n\u001b[31mSyntaxError\u001b[39m\u001b[31m:\u001b[39m invalid syntax. Perhaps you forgot a comma?\n"
     ]
    }
   ],
   "source": [
    "def say_hello(name,mag):\n",
    "    print('안녕,',name,'야,'msg):"
   ]
  },
  {
   "cell_type": "code",
   "execution_count": 45,
   "id": "de589c9b",
   "metadata": {},
   "outputs": [
    {
     "ename": "TypeError",
     "evalue": "say_hello() takes 1 positional argument but 2 were given",
     "output_type": "error",
     "traceback": [
      "\u001b[31m---------------------------------------------------------------------------\u001b[39m",
      "\u001b[31mTypeError\u001b[39m                                 Traceback (most recent call last)",
      "\u001b[36mCell\u001b[39m\u001b[36m \u001b[39m\u001b[32mIn[45]\u001b[39m\u001b[32m, line 3\u001b[39m\n\u001b[32m      1\u001b[39m name=\u001b[33m'\u001b[39m\u001b[33m철수\u001b[39m\u001b[33m'\u001b[39m\n\u001b[32m      2\u001b[39m msg=\u001b[33m'\u001b[39m\u001b[33m어서 집에 오너라\u001b[39m\u001b[33m'\u001b[39m\n\u001b[32m----> \u001b[39m\u001b[32m3\u001b[39m \u001b[43msay_hello\u001b[49m\u001b[43m(\u001b[49m\u001b[43mname\u001b[49m\u001b[43m,\u001b[49m\u001b[43mmsg\u001b[49m\u001b[43m)\u001b[49m\n",
      "\u001b[31mTypeError\u001b[39m: say_hello() takes 1 positional argument but 2 were given"
     ]
    }
   ],
   "source": [
    "name='철수'\n",
    "msg='어서 집에 오너라'\n",
    "say_hello(name,msg)"
   ]
  },
  {
   "cell_type": "code",
   "execution_count": 49,
   "id": "146f2553",
   "metadata": {},
   "outputs": [
    {
     "name": "stdout",
     "output_type": "stream",
     "text": [
      "55\n",
      "210\n"
     ]
    }
   ],
   "source": [
    "def get_sum(start,end):\n",
    "    sum=0\n",
    "    for i in range(start,end+1):\n",
    "        sum+=i\n",
    "    return sum\n",
    "print(get_sum(1,10))\n",
    "print(get_sum(1,20))"
   ]
  },
  {
   "cell_type": "code",
   "execution_count": 51,
   "id": "56a7ea5e",
   "metadata": {},
   "outputs": [
    {
     "name": "stdout",
     "output_type": "stream",
     "text": [
      "안녕 영희 별일 없죠?\n"
     ]
    }
   ],
   "source": [
    "def greet(name,msg='별일 없죠?'):\n",
    "    print('안녕',name,msg)\n",
    "\n",
    "greet('영희')"
   ]
  },
  {
   "cell_type": "code",
   "execution_count": null,
   "id": "06ff5879",
   "metadata": {},
   "outputs": [],
   "source": [
    "def output_hello(a,b,c,d):\n",
    "    print('안녕',a,b,c,d)\n",
    "\n",
    "a='철수'\n",
    "b='영희'\n",
    "c=3\n",
    "d=4\n",
    "\n",
    "output_hello(a='aaa',b='bbb',d=3,c=4)\n",
    "output_hello(b,c,d,a)\n",
    "output_hello(a='aaa',b='bbb',d=3,c=4)\n",
    "output_hello"
   ]
  },
  {
   "cell_type": "code",
   "execution_count": 52,
   "id": "79dd32dd",
   "metadata": {},
   "outputs": [],
   "source": [
    "import random\n",
    "\n",
    "def dice_gamge():\n",
    "    print('========dice_game() 호출====')\n",
    "    "
   ]
  },
  {
   "cell_type": "code",
   "execution_count": 53,
   "id": "10cf2767",
   "metadata": {},
   "outputs": [
    {
     "ename": "SyntaxError",
     "evalue": "invalid syntax (3960264061.py, line 5)",
     "output_type": "error",
     "traceback": [
      "  \u001b[36mCell\u001b[39m\u001b[36m \u001b[39m\u001b[32mIn[53]\u001b[39m\u001b[32m, line 5\u001b[39m\n\u001b[31m    \u001b[39m\u001b[31madd lambda = lambda a,b:a+b\u001b[39m\n        ^\n\u001b[31mSyntaxError\u001b[39m\u001b[31m:\u001b[39m invalid syntax\n"
     ]
    }
   ],
   "source": [
    "#일반 함수로 덧셈 정의\n",
    "def add(a,b):\n",
    "    return a+b\n",
    "#람다 함수로 덧셈 정의\n",
    "add lambda = lambda a,b:a+b\n",
    "\n",
    "print('일반 함수 덧셈:{(add(5,3)}')"
   ]
  },
  {
   "cell_type": "code",
   "execution_count": 65,
   "id": "00267bab",
   "metadata": {},
   "outputs": [
    {
     "name": "stdout",
     "output_type": "stream",
     "text": [
      "원의 둘레는 31.400000000000002\n"
     ]
    }
   ],
   "source": [
    "radius=5\n",
    "def get_perl(radius):\n",
    "        n=2*3.14*radius\n",
    "        return n\n",
    "\n",
    "n = get_perl(radius)\n",
    "print('원의 둘레는',n)\n",
    "\n"
   ]
  },
  {
   "cell_type": "code",
   "execution_count": 70,
   "id": "f5f3d964",
   "metadata": {},
   "outputs": [
    {
     "name": "stdout",
     "output_type": "stream",
     "text": [
      "18\n",
      "-6\n",
      "72\n",
      "0.5\n"
     ]
    }
   ],
   "source": [
    "def duke(a,b):\n",
    "    pppp= a+b\n",
    "    return pppp\n",
    "def lake(a,b):\n",
    "    dddd=a-b\n",
    "    return dddd\n",
    "def cake(a,b):\n",
    "    cccc=a*b\n",
    "    return cccc\n",
    "def jake(a,b):\n",
    "    aaaa=a/b\n",
    "    return aaaa\n",
    "\n",
    "\n",
    "c=int(input('첫번째 정수:'))\n",
    "d=int(input('두번째 정수:'))\n",
    "\n",
    "pppp=duke(c,d)\n",
    "dddd=lake(c,d)\n",
    "cccc=cake(c,d)\n",
    "aaaa=jake(c,d)\n",
    "\n",
    "print(pppp)\n",
    "print(dddd)\n",
    "print(cccc)\n",
    "print(aaaa)"
   ]
  },
  {
   "cell_type": "code",
   "execution_count": 72,
   "id": "c999bd6a",
   "metadata": {},
   "outputs": [
    {
     "name": "stdout",
     "output_type": "stream",
     "text": [
      "3.141592653589793\n"
     ]
    }
   ],
   "source": [
    "from math import pi\n",
    "\n",
    "print(pi)"
   ]
  },
  {
   "cell_type": "code",
   "execution_count": null,
   "id": "8c2b7351",
   "metadata": {},
   "outputs": [],
   "source": [
    "def duke(a,b):\n",
    "    pppp= a+b\n",
    "    return pppp\n",
    "def lake(a,b):\n",
    "    dddd=a-b\n",
    "    return dddd\n",
    "def cake(a,b):\n",
    "    cccc=a*b\n",
    "    return cccc\n",
    "def jake(a,b):\n",
    "    aaaa=a/b\n",
    "    return aaaa\n",
    "\n",
    "def cal()\n",
    "\n",
    "c=int(input('첫번째 정수:'))\n",
    "d=int(input('두번째 정수:'))\n",
    "\n",
    "pppp=duke(c,d)\n",
    "dddd=lake(c,d)\n",
    "cccc=cake(c,d)\n",
    "aaaa=jake(c,d)\n",
    "\n",
    "print(pppp)\n",
    "print(dddd)\n",
    "print(cccc)\n",
    "print(aaaa)"
   ]
  },
  {
   "cell_type": "code",
   "execution_count": 82,
   "id": "8f815203",
   "metadata": {},
   "outputs": [
    {
     "name": "stdout",
     "output_type": "stream",
     "text": [
      "[32, 56, 64, 72, 12, 37, 21, 32, 53, 99]\n",
      "[32, 56, 64, 72, 12, 37]\n",
      "[37, 21, 32, 53, 99]\n",
      "[32, 56, 64, 72, 12]\n",
      "99\n",
      "93\n"
     ]
    }
   ],
   "source": [
    "score=[32,56,64,72,12,37,21,32,53,99]\n",
    "print(score)\n",
    "print(score[0:6])\n",
    "print(score[5:])#[6,7,8,9,10]\n",
    "print(score[:5])#[1,2,3,4,5]\n",
    "print(score[-1])\n",
    "score[7]=93\n",
    "print(score[7])"
   ]
  },
  {
   "cell_type": "code",
   "execution_count": 85,
   "id": "b703db0e",
   "metadata": {},
   "outputs": [
    {
     "name": "stdout",
     "output_type": "stream",
     "text": [
      "[1]\n",
      "[1, 1]\n",
      "[1, 1, 111]\n",
      "[1, 1, 111, 1]\n",
      "[1, 1, 111, 1, 11]\n",
      "[1, 1, 111, 1, 11, 1]\n",
      "[1, 1, 111, 1, 11, 1, 11]\n",
      "[1, 1, 111, 1, 11, 1, 11, 1]\n",
      "[1, 1, 111, 1, 11, 1, 11, 1, 1]\n",
      "[1, 1, 111, 1, 11, 1, 11, 1, 1, 1]\n"
     ]
    }
   ],
   "source": [
    "score=[]\n",
    "for i in range(10):\n",
    "    score.append(int(input('성적을 입력하시오.')))\n",
    "    print(score)"
   ]
  },
  {
   "cell_type": "code",
   "execution_count": 90,
   "id": "e7b3fa27",
   "metadata": {},
   "outputs": [
    {
     "name": "stdout",
     "output_type": "stream",
     "text": [
      "[]\n",
      "['h', 'e', 'l', 'l', 'o']\n",
      "[0, 1, 2, 3, 4]\n"
     ]
    }
   ],
   "source": [
    "list1=list()#공백 리스트 생성\n",
    "list2=list('hello')#문자 h,e,l,l,o 를 요소로 가지는 리스트 생성\n",
    "list3=list(range(0,5))#0,1,2,3,4 를 가지는 리스트 생성\n",
    "print(list1)\n",
    "print(list2)\n",
    "print(list3)"
   ]
  },
  {
   "cell_type": "code",
   "execution_count": 91,
   "id": "112c6a9c",
   "metadata": {},
   "outputs": [
    {
     "name": "stdout",
     "output_type": "stream",
     "text": [
      "[10, 20, 30, 40, 50]\n",
      "[10, 20, 99, 40, 50]\n"
     ]
    }
   ],
   "source": [
    "scores=[10,20,30,40,50]\n",
    "values=scores[:]\n",
    "#values=scores\n",
    "values[2]=99\n",
    "print(scores)\n",
    "print(values)"
   ]
  },
  {
   "cell_type": "code",
   "execution_count": null,
   "id": "3d062f22",
   "metadata": {},
   "outputs": [
    {
     "ename": "TypeError",
     "evalue": "'int' object is not iterable",
     "output_type": "error",
     "traceback": [
      "\u001b[31m---------------------------------------------------------------------------\u001b[39m",
      "\u001b[31mTypeError\u001b[39m                                 Traceback (most recent call last)",
      "\u001b[36mCell\u001b[39m\u001b[36m \u001b[39m\u001b[32mIn[131]\u001b[39m\u001b[32m, line 18\u001b[39m\n\u001b[32m     14\u001b[39m elapsed=end_time-start_time\n\u001b[32m     16\u001b[39m correct=\u001b[32m0\u001b[39m\n\u001b[32m---> \u001b[39m\u001b[32m18\u001b[39m \u001b[38;5;28;01mfor\u001b[39;00m i \u001b[38;5;129;01min\u001b[39;00m \u001b[38;5;28mrange\u001b[39m(\u001b[38;5;28;43mmin\u001b[39;49m\u001b[43m(\u001b[49m\u001b[38;5;28;43mlen\u001b[39;49m\u001b[43m(\u001b[49m\u001b[43ma\u001b[49m\u001b[43m)\u001b[49m\u001b[43m)\u001b[49m,\u001b[38;5;28mlen\u001b[39m(typed)):\n\u001b[32m     19\u001b[39m     \u001b[38;5;28;01mif\u001b[39;00m textlist == typed:\n\u001b[32m     20\u001b[39m         correct += \u001b[32m1\u001b[39m\n",
      "\u001b[31mTypeError\u001b[39m: 'int' object is not iterable"
     ]
    }
   ],
   "source": [
    "#타자 연습 게임 코드\n",
    "import random  \n",
    "import time\n",
    "#연습 문장들\n",
    "textlist=['니가 가라 하와이','마이 뭇따 아이가','나다 이 씹새끼야','밥알이 매깨고','쫄리면 뒤지시던지','민주주의를 위하여','손은 눈보다 빠르다 하지만 걱정마라 장마담에겐 위에서 한장 아귀에겐 밑에서 한장'\n",
    "          ,'이거 방탄유리야 이 씹새끼야','아이 엠 아이언맨','아임 유어 빠더','혼자야? 아니 싱글이야','두루와 두루와 이 씹새끼들아','도비는 자유에요','금방 온다 해짜나요','묻고 더블로 가','마포대교는 무너졌냐 개새끼야',\n",
    "          '1억은 너무 적소 5억으로 주시오','오케이 4딸라','나 전당포 한다 금니도 받아 금니뺴고 모조리 씹어먹어주마','우리가 돈이 없지 가오가 없냐','느그 아부지 뭐하시노','그거 알아? 나 지금 되게 신나!']\n",
    "print('타자연습게임입니다.')\n",
    "input('엔터를 누르면 시작합니다')\n",
    "#랜덤 문장 선택\n",
    "a=random.choice(textlist)\n",
    "print('\\n다음 문장을 그대로 입력하세요:\\n')\n",
    "print(f'{a}\\n')\n",
    "\n",
    "input('준비되면 ENTER를 누르세요')\n",
    "#시간 측정 시작\n",
    "start_time=time.time()\n",
    "#사용자 입력 받기\n",
    "typed=input('\\n입력:')\n",
    "#시간 측정 종료\n",
    "end_time=time.time()\n",
    "elapsed=end_time-start_time\n",
    "#정확도 계산\n",
    "correct=0\n",
    "\n",
    "for i in range(min(len(a)),len(typed)):\n",
    "    if a[i] == typed[i]:\n",
    "        correct += 1\n",
    "\n",
    "\n",
    "accuracy=correct / len(a)*100\n",
    "speed = len(typed) / elapsed*60  #분당 타자 수(cpm)\n",
    "\n",
    "#결과 출력\n",
    "print('\\n결과')\n",
    "print(f'걸린 시간:{elapsed:.2f}초')\n",
    "print(f'정확도:{accuracy:.2f}초')\n",
    "print(f'타자 속도:{speed:.2f}초')"
   ]
  },
  {
   "cell_type": "code",
   "execution_count": 112,
   "id": "3e14229b",
   "metadata": {},
   "outputs": [
    {
     "data": {
      "text/plain": [
       "time.struct_time(tm_year=2025, tm_mon=7, tm_mday=10, tm_hour=16, tm_min=4, tm_sec=52, tm_wday=3, tm_yday=191, tm_isdst=0)"
      ]
     },
     "execution_count": 112,
     "metadata": {},
     "output_type": "execute_result"
    }
   ],
   "source": [
    "time.localtime(time.time())"
   ]
  },
  {
   "cell_type": "code",
   "execution_count": 113,
   "id": "4687941b",
   "metadata": {},
   "outputs": [
    {
     "data": {
      "text/plain": [
       "'Thu Jul 10 16:05:39 2025'"
      ]
     },
     "execution_count": 113,
     "metadata": {},
     "output_type": "execute_result"
    }
   ],
   "source": [
    "It=time.localtime(time.time())\n",
    "time.asctime(It)"
   ]
  }
 ],
 "metadata": {
  "kernelspec": {
   "display_name": "Python 3",
   "language": "python",
   "name": "python3"
  },
  "language_info": {
   "codemirror_mode": {
    "name": "ipython",
    "version": 3
   },
   "file_extension": ".py",
   "mimetype": "text/x-python",
   "name": "python",
   "nbconvert_exporter": "python",
   "pygments_lexer": "ipython3",
   "version": "3.12.5"
  }
 },
 "nbformat": 4,
 "nbformat_minor": 5
}
