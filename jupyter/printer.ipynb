{
 "cells": [
  {
   "cell_type": "code",
   "execution_count": 4,
   "id": "b4a5f969",
   "metadata": {},
   "outputs": [
    {
     "name": "stdout",
     "output_type": "stream",
     "text": [
      "안녕하세요\n",
      "'안녕하세요'\n"
     ]
    }
   ],
   "source": [
    "str = \"안녕하세요\"\n",
    "print(str)\n",
    "print(\"'안녕하세요'\")"
   ]
  },
  {
   "cell_type": "code",
   "execution_count": 2,
   "id": "2d18fce3",
   "metadata": {},
   "outputs": [
    {
     "name": "stdout",
     "output_type": "stream",
     "text": [
      "10 20 30\n"
     ]
    }
   ],
   "source": [
    "a=10\n",
    "b=20\n",
    "c=30\n",
    "print(a,b,c)"
   ]
  },
  {
   "cell_type": "code",
   "execution_count": 3,
   "id": "76fcfe03",
   "metadata": {},
   "outputs": [
    {
     "name": "stdout",
     "output_type": "stream",
     "text": [
      "10 20 30\n"
     ]
    }
   ],
   "source": [
    "print(a,b,c)"
   ]
  },
  {
   "cell_type": "code",
   "execution_count": 6,
   "id": "d2d1ae22",
   "metadata": {},
   "outputs": [
    {
     "name": "stdout",
     "output_type": "stream",
     "text": [
      "4.140000000000001\n",
      "<class 'int'>\n",
      "3.14\n",
      "<class 'float'>\n"
     ]
    }
   ],
   "source": [
    "pi=3.14\n",
    "a=1\n",
    "print(pi+a)\n",
    "print(type(a))\n",
    "a=3.14\n",
    "print(a)\n",
    "print(type(a))\n"
   ]
  },
  {
   "cell_type": "code",
   "execution_count": 7,
   "id": "5dc72b72",
   "metadata": {},
   "outputs": [
    {
     "name": "stdout",
     "output_type": "stream",
     "text": [
      "안녕하세요\n"
     ]
    }
   ],
   "source": [
    "print(str)"
   ]
  },
  {
   "cell_type": "code",
   "execution_count": 9,
   "id": "66ee6604",
   "metadata": {},
   "outputs": [
    {
     "name": "stdout",
     "output_type": "stream",
     "text": [
      "현재의 세율은 35.0 %입니다\n"
     ]
    }
   ],
   "source": [
    "TAX_RATE=0.35\n",
    "tax=1000*TAX_RATE\n",
    "income=1000-tax\n",
    "print(\"현재의 세율은\",TAX_RATE*100,\"%입니다\")"
   ]
  },
  {
   "cell_type": "code",
   "execution_count": 1,
   "id": "cfa80520",
   "metadata": {},
   "outputs": [
    {
     "name": "stdout",
     "output_type": "stream",
     "text": [
      "200\n"
     ]
    }
   ],
   "source": [
    "#사각형의 가로 길이\n",
    "width=10\n",
    "#사각형의 세로 길이\n",
    "height=20\n",
    "#사각형의 면적 계산\n",
    "area=width*height\n",
    "print(area)"
   ]
  },
  {
   "cell_type": "code",
   "execution_count": null,
   "id": "a79521ef",
   "metadata": {},
   "outputs": [],
   "source": [
    "side1=int(input(\"삼각형의 첫 번쨰 변의 길이:\"))\n",
    "side2=int(input(\"삼각형의 두 번쨰 변의 길이:\"))\n",
    "\n",
    "print('삼각형의 나머지 변의 최대 길이 =',(side1+side2)-1)"
   ]
  },
  {
   "cell_type": "code",
   "execution_count": null,
   "id": "81ed30db",
   "metadata": {},
   "outputs": [],
   "source": [
    "f=int(input('화씨 온도를 입력하시오:'))\n",
    "c=round((f-32.0)*(5/9),2)\n",
    "print(\"화씨\",f,\"도는 섭씨\",c,\"도에 해당합니다\")"
   ]
  },
  {
   "cell_type": "code",
   "execution_count": null,
   "id": "c5759641",
   "metadata": {},
   "outputs": [],
   "source": [
    "cost=int(input('음식값:'))\n",
    "tax=(cost)*(1/10)\n",
    "total=cost+tax\n",
    "print('전체 음식값은',total,'입니다')"
   ]
  },
  {
   "cell_type": "code",
   "execution_count": null,
   "id": "8c32eb0e",
   "metadata": {},
   "outputs": [],
   "source": [
    "x1=int(input('x1='))\n",
    "y1=int(input('y1='))\n",
    "x2=int(input('x2='))\n",
    "y2=int(input('y2='))\n",
    "\n",
    "d=((x1-x2)**2+(y1-y2)**2)**0.5\n",
    "print('두 점 사이의 거리=',d)"
   ]
  },
  {
   "cell_type": "code",
   "execution_count": null,
   "id": "fecc595d",
   "metadata": {},
   "outputs": [],
   "source": [
    "num=int(input('정수:'))\n",
    "\n",
    "fourth=num//1000\n",
    "third=(num%1000)//100\n",
    "second=(num%100)//10\n",
    "first=(num%10)\n",
    "\n",
    "sum=fourth+third+second+first\n",
    "print(sum)"
   ]
  },
  {
   "cell_type": "code",
   "execution_count": null,
   "id": "ad9e2cc8",
   "metadata": {},
   "outputs": [],
   "source": [
    "num=int(input('숫자를 입력하시오:'))\n",
    "\n",
    "if num>=100000 and num<1000000:\n",
    "    moreT=num//1000\n",
    "    lessT=num%1000\n",
    "    print(moreT,\",\",lessT)\n",
    "    print(str(moreT)+\",\"+str(lessT))\n",
    "    print(\"%d,%d\"%(moreT,lessT))\n",
    "    print(f\"{moreT},{lessT}\")\n",
    "\n",
    "else:\n",
    "    print(\"숫자가 범위에 없습니다.\")"
   ]
  },
  {
   "cell_type": "code",
   "execution_count": null,
   "id": "a0c76001",
   "metadata": {},
   "outputs": [],
   "source": [
    "age=int(input('나이를 입력하세요:'))\n",
    "if(age>=19):\n",
    "    print('주류를 구매할 수 있습니다')\n",
    "\n",
    "else:\n",
    "    print('주류를 구매할 수 없습니다')"
   ]
  },
  {
   "cell_type": "code",
   "execution_count": null,
   "id": "906da09e",
   "metadata": {},
   "outputs": [],
   "source": [
    "sales=int(input('물건 가격'))\n",
    "if sales > 1000 :\n",
    "    discount = sales*0.1\n",
    "    print(discount,\"할인 되었음\")\n",
    "else:\n",
    "    if sales>500:\n",
    "        discount=sales*0.05\n",
    "        print(discount,\"할인 되었음\")\n",
    "    else:\n",
    "        print(\"할인은 없습니다\")"
   ]
  },
  {
   "cell_type": "code",
   "execution_count": null,
   "id": "46b8b9ae",
   "metadata": {},
   "outputs": [],
   "source": [
    "score=int(input(\"성적\"))\n",
    "\n",
    "if score>=90:\n",
    "    print(\"A\")\n",
    "elif score>=80:\n",
    "    print(\"B\")\n",
    "elif score>=70:\n",
    "    print(\"C\")\n",
    "elif score>=60:\n",
    "    print(\"D\")\n",
    "else:\n",
    "    print(\"F\")"
   ]
  },
  {
   "cell_type": "code",
   "execution_count": null,
   "id": "e2e4dc8d",
   "metadata": {},
   "outputs": [],
   "source": [
    "appleQuality=input(\"사과의 상태\")\n",
    "applePrice=int(input('사과 1개의 가격'))\n",
    "\n",
    "if appleQuality==\"신선\":\n",
    "    if applePrice<1000:\n",
    "        print(\"10개 삼\")\n",
    "    else:\n",
    "        print(\"5개 삼\")\n",
    "\n",
    "else:\n",
    "    printt(\"사과 안 삼\")"
   ]
  },
  {
   "cell_type": "code",
   "execution_count": null,
   "id": "469c5565",
   "metadata": {},
   "outputs": [],
   "source": [
    "a=int(input('정수1:'))\n",
    "b=int(input('정수2:'))\n",
    "if a%b==0:\n",
    "    print(\"약수입니다\")\n",
    "else:\n",
    "    print(\"약수아님\")\n"
   ]
  },
  {
   "cell_type": "code",
   "execution_count": null,
   "id": "e059b7ee",
   "metadata": {},
   "outputs": [],
   "source": [
    "temp=int(input('현재온도'))\n",
    "if 120>temp>=25:\n",
    "    print('반바지 추천')\n",
    "elif temp<25:\n",
    "    print('긴바지 추천')\n",
    "elif temp>120:\n",
    "    print('자살하시오')\n",
    "\n",
    "else:\n",
    "    print('잘못된 입력')\n"
   ]
  }
 ],
 "metadata": {
  "kernelspec": {
   "display_name": ".venv",
   "language": "python",
   "name": "python3"
  },
  "language_info": {
   "codemirror_mode": {
    "name": "ipython",
    "version": 3
   },
   "file_extension": ".py",
   "mimetype": "text/x-python",
   "name": "python",
   "nbconvert_exporter": "python",
   "pygments_lexer": "ipython3",
   "version": "3.9.13"
  }
 },
 "nbformat": 4,
 "nbformat_minor": 5
}
